{
 "cells": [
  {
   "cell_type": "code",
   "execution_count": 1,
   "metadata": {},
   "outputs": [],
   "source": [
    "import pandas as pd"
   ]
  },
  {
   "cell_type": "code",
   "execution_count": 2,
   "metadata": {},
   "outputs": [
    {
     "data": {
      "text/html": [
       "<div>\n",
       "<style scoped>\n",
       "    .dataframe tbody tr th:only-of-type {\n",
       "        vertical-align: middle;\n",
       "    }\n",
       "\n",
       "    .dataframe tbody tr th {\n",
       "        vertical-align: top;\n",
       "    }\n",
       "\n",
       "    .dataframe thead th {\n",
       "        text-align: right;\n",
       "    }\n",
       "</style>\n",
       "<table border=\"1\" class=\"dataframe\">\n",
       "  <thead>\n",
       "    <tr style=\"text-align: right;\">\n",
       "      <th></th>\n",
       "      <th>Entry_ID</th>\n",
       "      <th>State Patient Number</th>\n",
       "      <th>Date Announced</th>\n",
       "      <th>Age Bracket</th>\n",
       "      <th>Gender</th>\n",
       "      <th>Detected City</th>\n",
       "      <th>Detected District</th>\n",
       "      <th>Detected State</th>\n",
       "      <th>State code</th>\n",
       "      <th>Num Cases</th>\n",
       "      <th>Current Status</th>\n",
       "      <th>Contracted from which Patient (Suspected)</th>\n",
       "      <th>Notes</th>\n",
       "      <th>Source_1</th>\n",
       "      <th>Source_2</th>\n",
       "      <th>Source_3</th>\n",
       "      <th>Nationality</th>\n",
       "      <th>Type of transmission</th>\n",
       "      <th>Status Change Date</th>\n",
       "      <th>Patient Number</th>\n",
       "    </tr>\n",
       "  </thead>\n",
       "  <tbody>\n",
       "    <tr>\n",
       "      <th>0</th>\n",
       "      <td>453529</td>\n",
       "      <td>NaN</td>\n",
       "      <td>09/01/2021</td>\n",
       "      <td>NaN</td>\n",
       "      <td>NaN</td>\n",
       "      <td>NaN</td>\n",
       "      <td>NaN</td>\n",
       "      <td>Telangana</td>\n",
       "      <td>TG</td>\n",
       "      <td>474</td>\n",
       "      <td>Recovered</td>\n",
       "      <td>NaN</td>\n",
       "      <td>NaN</td>\n",
       "      <td>http://twitter.com/drgsrao/status/134775880790...</td>\n",
       "      <td>NaN</td>\n",
       "      <td>NaN</td>\n",
       "      <td>NaN</td>\n",
       "      <td>NaN</td>\n",
       "      <td>NaN</td>\n",
       "      <td>NaN</td>\n",
       "    </tr>\n",
       "    <tr>\n",
       "      <th>1</th>\n",
       "      <td>453530</td>\n",
       "      <td>NaN</td>\n",
       "      <td>09/01/2021</td>\n",
       "      <td>NaN</td>\n",
       "      <td>NaN</td>\n",
       "      <td>NaN</td>\n",
       "      <td>NaN</td>\n",
       "      <td>Telangana</td>\n",
       "      <td>TG</td>\n",
       "      <td>2</td>\n",
       "      <td>Deceased</td>\n",
       "      <td>NaN</td>\n",
       "      <td>NaN</td>\n",
       "      <td>http://twitter.com/drgsrao/status/134775880790...</td>\n",
       "      <td>NaN</td>\n",
       "      <td>NaN</td>\n",
       "      <td>NaN</td>\n",
       "      <td>NaN</td>\n",
       "      <td>NaN</td>\n",
       "      <td>NaN</td>\n",
       "    </tr>\n",
       "    <tr>\n",
       "      <th>2</th>\n",
       "      <td>453531</td>\n",
       "      <td>NaN</td>\n",
       "      <td>09/01/2021</td>\n",
       "      <td>NaN</td>\n",
       "      <td>NaN</td>\n",
       "      <td>NaN</td>\n",
       "      <td>Adilabad</td>\n",
       "      <td>Telangana</td>\n",
       "      <td>TG</td>\n",
       "      <td>4</td>\n",
       "      <td>Hospitalized</td>\n",
       "      <td>NaN</td>\n",
       "      <td>NaN</td>\n",
       "      <td>http://twitter.com/drgsrao/status/134775880790...</td>\n",
       "      <td>NaN</td>\n",
       "      <td>NaN</td>\n",
       "      <td>NaN</td>\n",
       "      <td>NaN</td>\n",
       "      <td>NaN</td>\n",
       "      <td>NaN</td>\n",
       "    </tr>\n",
       "    <tr>\n",
       "      <th>3</th>\n",
       "      <td>453532</td>\n",
       "      <td>NaN</td>\n",
       "      <td>09/01/2021</td>\n",
       "      <td>NaN</td>\n",
       "      <td>NaN</td>\n",
       "      <td>NaN</td>\n",
       "      <td>Bhadradri Kothagudem</td>\n",
       "      <td>Telangana</td>\n",
       "      <td>TG</td>\n",
       "      <td>8</td>\n",
       "      <td>Hospitalized</td>\n",
       "      <td>NaN</td>\n",
       "      <td>NaN</td>\n",
       "      <td>http://twitter.com/drgsrao/status/134775880790...</td>\n",
       "      <td>NaN</td>\n",
       "      <td>NaN</td>\n",
       "      <td>NaN</td>\n",
       "      <td>NaN</td>\n",
       "      <td>NaN</td>\n",
       "      <td>NaN</td>\n",
       "    </tr>\n",
       "    <tr>\n",
       "      <th>4</th>\n",
       "      <td>453533</td>\n",
       "      <td>NaN</td>\n",
       "      <td>09/01/2021</td>\n",
       "      <td>NaN</td>\n",
       "      <td>NaN</td>\n",
       "      <td>NaN</td>\n",
       "      <td>Hyderabad</td>\n",
       "      <td>Telangana</td>\n",
       "      <td>TG</td>\n",
       "      <td>61</td>\n",
       "      <td>Hospitalized</td>\n",
       "      <td>NaN</td>\n",
       "      <td>NaN</td>\n",
       "      <td>http://twitter.com/drgsrao/status/134775880790...</td>\n",
       "      <td>NaN</td>\n",
       "      <td>NaN</td>\n",
       "      <td>NaN</td>\n",
       "      <td>NaN</td>\n",
       "      <td>NaN</td>\n",
       "      <td>NaN</td>\n",
       "    </tr>\n",
       "  </tbody>\n",
       "</table>\n",
       "</div>"
      ],
      "text/plain": [
       "   Entry_ID  State Patient Number Date Announced  Age Bracket Gender  \\\n",
       "0    453529                   NaN     09/01/2021          NaN    NaN   \n",
       "1    453530                   NaN     09/01/2021          NaN    NaN   \n",
       "2    453531                   NaN     09/01/2021          NaN    NaN   \n",
       "3    453532                   NaN     09/01/2021          NaN    NaN   \n",
       "4    453533                   NaN     09/01/2021          NaN    NaN   \n",
       "\n",
       "  Detected City     Detected District Detected State State code  Num Cases  \\\n",
       "0           NaN                   NaN      Telangana         TG        474   \n",
       "1           NaN                   NaN      Telangana         TG          2   \n",
       "2           NaN              Adilabad      Telangana         TG          4   \n",
       "3           NaN  Bhadradri Kothagudem      Telangana         TG          8   \n",
       "4           NaN             Hyderabad      Telangana         TG         61   \n",
       "\n",
       "  Current Status  Contracted from which Patient (Suspected) Notes  \\\n",
       "0      Recovered                                        NaN   NaN   \n",
       "1       Deceased                                        NaN   NaN   \n",
       "2   Hospitalized                                        NaN   NaN   \n",
       "3   Hospitalized                                        NaN   NaN   \n",
       "4   Hospitalized                                        NaN   NaN   \n",
       "\n",
       "                                            Source_1 Source_2  Source_3  \\\n",
       "0  http://twitter.com/drgsrao/status/134775880790...      NaN       NaN   \n",
       "1  http://twitter.com/drgsrao/status/134775880790...      NaN       NaN   \n",
       "2  http://twitter.com/drgsrao/status/134775880790...      NaN       NaN   \n",
       "3  http://twitter.com/drgsrao/status/134775880790...      NaN       NaN   \n",
       "4  http://twitter.com/drgsrao/status/134775880790...      NaN       NaN   \n",
       "\n",
       "   Nationality  Type of transmission  Status Change Date  Patient Number  \n",
       "0          NaN                   NaN                 NaN             NaN  \n",
       "1          NaN                   NaN                 NaN             NaN  \n",
       "2          NaN                   NaN                 NaN             NaN  \n",
       "3          NaN                   NaN                 NaN             NaN  \n",
       "4          NaN                   NaN                 NaN             NaN  "
      ]
     },
     "execution_count": 2,
     "metadata": {},
     "output_type": "execute_result"
    }
   ],
   "source": [
    "df1 = pd.read_csv('https://api.covid19india.org/csv/latest/raw_data22.csv')\n",
    "df1.head()"
   ]
  },
  {
   "cell_type": "code",
   "execution_count": 3,
   "metadata": {},
   "outputs": [],
   "source": [
    "df23 = pd.read_csv('https://api.covid19india.org/csv/latest/raw_data23.csv')\n",
    "df24 = pd.read_csv('https://api.covid19india.org/csv/latest/raw_data24.csv')\n",
    "df25 = pd.read_csv('https://api.covid19india.org/csv/latest/raw_data25.csv')\n",
    "df26 = pd.read_csv('https://api.covid19india.org/csv/latest/raw_data26.csv')"
   ]
  },
  {
   "cell_type": "code",
   "execution_count": 4,
   "metadata": {},
   "outputs": [
    {
     "name": "stdout",
     "output_type": "stream",
     "text": [
      "<class 'pandas.core.frame.DataFrame'>\n",
      "RangeIndex: 25791 entries, 0 to 25790\n",
      "Data columns (total 20 columns):\n",
      " #   Column                                     Non-Null Count  Dtype  \n",
      "---  ------                                     --------------  -----  \n",
      " 0   Entry_ID                                   25791 non-null  int64  \n",
      " 1   State Patient Number                       0 non-null      float64\n",
      " 2   Date Announced                             25791 non-null  object \n",
      " 3   Age Bracket                                15 non-null     float64\n",
      " 4   Gender                                     15 non-null     object \n",
      " 5   Detected City                              1 non-null      object \n",
      " 6   Detected District                          25425 non-null  object \n",
      " 7   Detected State                             25791 non-null  object \n",
      " 8   State code                                 25791 non-null  object \n",
      " 9   Num Cases                                  25791 non-null  int64  \n",
      " 10  Current Status                             25791 non-null  object \n",
      " 11  Contracted from which Patient (Suspected)  0 non-null      float64\n",
      " 12  Notes                                      39 non-null     object \n",
      " 13  Source_1                                   25210 non-null  object \n",
      " 14  Source_2                                   1615 non-null   object \n",
      " 15  Source_3                                   0 non-null      float64\n",
      " 16  Nationality                                0 non-null      float64\n",
      " 17  Type of transmission                       0 non-null      float64\n",
      " 18  Status Change Date                         0 non-null      float64\n",
      " 19  Patient Number                             0 non-null      float64\n",
      "dtypes: float64(8), int64(2), object(10)\n",
      "memory usage: 3.9+ MB\n"
     ]
    }
   ],
   "source": [
    "df1.info()"
   ]
  },
  {
   "cell_type": "code",
   "execution_count": 5,
   "metadata": {},
   "outputs": [
    {
     "data": {
      "text/plain": [
       "Index(['Entry_ID', 'State Patient Number', 'Date Announced', 'Age Bracket',\n",
       "       'Gender', 'Detected City', 'Detected District', 'Detected State',\n",
       "       'State code', 'Num Cases', 'Current Status',\n",
       "       'Contracted from which Patient (Suspected)', 'Notes', 'Source_1',\n",
       "       'Source_2', 'Source_3', 'Nationality', 'Type of transmission',\n",
       "       'Status Change Date', 'Patient Number'],\n",
       "      dtype='object')"
      ]
     },
     "execution_count": 5,
     "metadata": {},
     "output_type": "execute_result"
    }
   ],
   "source": [
    "df1.columns"
   ]
  },
  {
   "cell_type": "code",
   "execution_count": 6,
   "metadata": {},
   "outputs": [
    {
     "data": {
      "text/html": [
       "<div>\n",
       "<style scoped>\n",
       "    .dataframe tbody tr th:only-of-type {\n",
       "        vertical-align: middle;\n",
       "    }\n",
       "\n",
       "    .dataframe tbody tr th {\n",
       "        vertical-align: top;\n",
       "    }\n",
       "\n",
       "    .dataframe thead th {\n",
       "        text-align: right;\n",
       "    }\n",
       "</style>\n",
       "<table border=\"1\" class=\"dataframe\">\n",
       "  <thead>\n",
       "    <tr style=\"text-align: right;\">\n",
       "      <th></th>\n",
       "      <th>Num Cases</th>\n",
       "      <th>Date Announced</th>\n",
       "      <th>Age Bracket</th>\n",
       "      <th>Gender</th>\n",
       "      <th>Detected District</th>\n",
       "      <th>Detected State</th>\n",
       "      <th>Current Status</th>\n",
       "    </tr>\n",
       "  </thead>\n",
       "  <tbody>\n",
       "    <tr>\n",
       "      <th>0</th>\n",
       "      <td>474</td>\n",
       "      <td>09/01/2021</td>\n",
       "      <td>NaN</td>\n",
       "      <td>NaN</td>\n",
       "      <td>NaN</td>\n",
       "      <td>Telangana</td>\n",
       "      <td>Recovered</td>\n",
       "    </tr>\n",
       "    <tr>\n",
       "      <th>1</th>\n",
       "      <td>2</td>\n",
       "      <td>09/01/2021</td>\n",
       "      <td>NaN</td>\n",
       "      <td>NaN</td>\n",
       "      <td>NaN</td>\n",
       "      <td>Telangana</td>\n",
       "      <td>Deceased</td>\n",
       "    </tr>\n",
       "    <tr>\n",
       "      <th>2</th>\n",
       "      <td>4</td>\n",
       "      <td>09/01/2021</td>\n",
       "      <td>NaN</td>\n",
       "      <td>NaN</td>\n",
       "      <td>Adilabad</td>\n",
       "      <td>Telangana</td>\n",
       "      <td>Hospitalized</td>\n",
       "    </tr>\n",
       "    <tr>\n",
       "      <th>3</th>\n",
       "      <td>8</td>\n",
       "      <td>09/01/2021</td>\n",
       "      <td>NaN</td>\n",
       "      <td>NaN</td>\n",
       "      <td>Bhadradri Kothagudem</td>\n",
       "      <td>Telangana</td>\n",
       "      <td>Hospitalized</td>\n",
       "    </tr>\n",
       "    <tr>\n",
       "      <th>4</th>\n",
       "      <td>61</td>\n",
       "      <td>09/01/2021</td>\n",
       "      <td>NaN</td>\n",
       "      <td>NaN</td>\n",
       "      <td>Hyderabad</td>\n",
       "      <td>Telangana</td>\n",
       "      <td>Hospitalized</td>\n",
       "    </tr>\n",
       "    <tr>\n",
       "      <th>...</th>\n",
       "      <td>...</td>\n",
       "      <td>...</td>\n",
       "      <td>...</td>\n",
       "      <td>...</td>\n",
       "      <td>...</td>\n",
       "      <td>...</td>\n",
       "      <td>...</td>\n",
       "    </tr>\n",
       "    <tr>\n",
       "      <th>25786</th>\n",
       "      <td>1</td>\n",
       "      <td>31/01/2021</td>\n",
       "      <td>NaN</td>\n",
       "      <td>NaN</td>\n",
       "      <td>Wayanad</td>\n",
       "      <td>Kerala</td>\n",
       "      <td>Deceased</td>\n",
       "    </tr>\n",
       "    <tr>\n",
       "      <th>25787</th>\n",
       "      <td>1</td>\n",
       "      <td>31/01/2021</td>\n",
       "      <td>NaN</td>\n",
       "      <td>NaN</td>\n",
       "      <td>Kannur</td>\n",
       "      <td>Kerala</td>\n",
       "      <td>Deceased</td>\n",
       "    </tr>\n",
       "    <tr>\n",
       "      <th>25788</th>\n",
       "      <td>1</td>\n",
       "      <td>31/01/2021</td>\n",
       "      <td>NaN</td>\n",
       "      <td>NaN</td>\n",
       "      <td>Kannur</td>\n",
       "      <td>Kerala</td>\n",
       "      <td>Deceased</td>\n",
       "    </tr>\n",
       "    <tr>\n",
       "      <th>25789</th>\n",
       "      <td>19</td>\n",
       "      <td>31/01/2021</td>\n",
       "      <td>NaN</td>\n",
       "      <td>NaN</td>\n",
       "      <td>Lakshadweep</td>\n",
       "      <td>Lakshadweep</td>\n",
       "      <td>Recovered</td>\n",
       "    </tr>\n",
       "    <tr>\n",
       "      <th>25790</th>\n",
       "      <td>8</td>\n",
       "      <td>31/01/2021</td>\n",
       "      <td>NaN</td>\n",
       "      <td>NaN</td>\n",
       "      <td>Lakshadweep</td>\n",
       "      <td>Lakshadweep</td>\n",
       "      <td>Hospitalized</td>\n",
       "    </tr>\n",
       "  </tbody>\n",
       "</table>\n",
       "<p>25791 rows × 7 columns</p>\n",
       "</div>"
      ],
      "text/plain": [
       "       Num Cases Date Announced  Age Bracket Gender     Detected District  \\\n",
       "0            474     09/01/2021          NaN    NaN                   NaN   \n",
       "1              2     09/01/2021          NaN    NaN                   NaN   \n",
       "2              4     09/01/2021          NaN    NaN              Adilabad   \n",
       "3              8     09/01/2021          NaN    NaN  Bhadradri Kothagudem   \n",
       "4             61     09/01/2021          NaN    NaN             Hyderabad   \n",
       "...          ...            ...          ...    ...                   ...   \n",
       "25786          1     31/01/2021          NaN    NaN               Wayanad   \n",
       "25787          1     31/01/2021          NaN    NaN                Kannur   \n",
       "25788          1     31/01/2021          NaN    NaN                Kannur   \n",
       "25789         19     31/01/2021          NaN    NaN           Lakshadweep   \n",
       "25790          8     31/01/2021          NaN    NaN           Lakshadweep   \n",
       "\n",
       "      Detected State Current Status  \n",
       "0          Telangana      Recovered  \n",
       "1          Telangana       Deceased  \n",
       "2          Telangana   Hospitalized  \n",
       "3          Telangana   Hospitalized  \n",
       "4          Telangana   Hospitalized  \n",
       "...              ...            ...  \n",
       "25786         Kerala       Deceased  \n",
       "25787         Kerala       Deceased  \n",
       "25788         Kerala       Deceased  \n",
       "25789    Lakshadweep      Recovered  \n",
       "25790    Lakshadweep   Hospitalized  \n",
       "\n",
       "[25791 rows x 7 columns]"
      ]
     },
     "execution_count": 6,
     "metadata": {},
     "output_type": "execute_result"
    }
   ],
   "source": [
    "df1 = df1.loc[:,['Num Cases','Date Announced','Age Bracket','Gender','Detected District','Detected State','Current Status']]\n",
    "df1"
   ]
  },
  {
   "cell_type": "code",
   "execution_count": 7,
   "metadata": {},
   "outputs": [],
   "source": [
    "df23 = df23.loc[:,['Num Cases','Date Announced','Age Bracket','Gender','Detected District','Detected State','Current Status']]\n",
    "df24 = df24.loc[:,['Num Cases','Date Announced','Age Bracket','Gender','Detected District','Detected State','Current Status']]\n",
    "df25 = df25.loc[:,['Num Cases','Date Announced','Age Bracket','Gender','Detected District','Detected State','Current Status']]\n",
    "df26 = df26.loc[:,['Num Cases','Date Announced','Age Bracket','Gender','Detected District','Detected State','Current Status']]"
   ]
  },
  {
   "cell_type": "code",
   "execution_count": 8,
   "metadata": {},
   "outputs": [],
   "source": [
    "df = df1.append([df23,df24,df25,df26])"
   ]
  },
  {
   "cell_type": "code",
   "execution_count": 9,
   "metadata": {},
   "outputs": [
    {
     "data": {
      "text/html": [
       "<div>\n",
       "<style scoped>\n",
       "    .dataframe tbody tr th:only-of-type {\n",
       "        vertical-align: middle;\n",
       "    }\n",
       "\n",
       "    .dataframe tbody tr th {\n",
       "        vertical-align: top;\n",
       "    }\n",
       "\n",
       "    .dataframe thead th {\n",
       "        text-align: right;\n",
       "    }\n",
       "</style>\n",
       "<table border=\"1\" class=\"dataframe\">\n",
       "  <thead>\n",
       "    <tr style=\"text-align: right;\">\n",
       "      <th></th>\n",
       "      <th>Num Cases</th>\n",
       "      <th>Date Announced</th>\n",
       "      <th>Age Bracket</th>\n",
       "      <th>Gender</th>\n",
       "      <th>Detected District</th>\n",
       "      <th>Detected State</th>\n",
       "      <th>Current Status</th>\n",
       "    </tr>\n",
       "  </thead>\n",
       "  <tbody>\n",
       "    <tr>\n",
       "      <th>0</th>\n",
       "      <td>474</td>\n",
       "      <td>09/01/2021</td>\n",
       "      <td>NaN</td>\n",
       "      <td>NaN</td>\n",
       "      <td>NaN</td>\n",
       "      <td>Telangana</td>\n",
       "      <td>Recovered</td>\n",
       "    </tr>\n",
       "    <tr>\n",
       "      <th>1</th>\n",
       "      <td>2</td>\n",
       "      <td>09/01/2021</td>\n",
       "      <td>NaN</td>\n",
       "      <td>NaN</td>\n",
       "      <td>NaN</td>\n",
       "      <td>Telangana</td>\n",
       "      <td>Deceased</td>\n",
       "    </tr>\n",
       "    <tr>\n",
       "      <th>2</th>\n",
       "      <td>4</td>\n",
       "      <td>09/01/2021</td>\n",
       "      <td>NaN</td>\n",
       "      <td>NaN</td>\n",
       "      <td>Adilabad</td>\n",
       "      <td>Telangana</td>\n",
       "      <td>Hospitalized</td>\n",
       "    </tr>\n",
       "    <tr>\n",
       "      <th>3</th>\n",
       "      <td>8</td>\n",
       "      <td>09/01/2021</td>\n",
       "      <td>NaN</td>\n",
       "      <td>NaN</td>\n",
       "      <td>Bhadradri Kothagudem</td>\n",
       "      <td>Telangana</td>\n",
       "      <td>Hospitalized</td>\n",
       "    </tr>\n",
       "    <tr>\n",
       "      <th>4</th>\n",
       "      <td>61</td>\n",
       "      <td>09/01/2021</td>\n",
       "      <td>NaN</td>\n",
       "      <td>NaN</td>\n",
       "      <td>Hyderabad</td>\n",
       "      <td>Telangana</td>\n",
       "      <td>Hospitalized</td>\n",
       "    </tr>\n",
       "    <tr>\n",
       "      <th>...</th>\n",
       "      <td>...</td>\n",
       "      <td>...</td>\n",
       "      <td>...</td>\n",
       "      <td>...</td>\n",
       "      <td>...</td>\n",
       "      <td>...</td>\n",
       "      <td>...</td>\n",
       "    </tr>\n",
       "    <tr>\n",
       "      <th>24058</th>\n",
       "      <td>199</td>\n",
       "      <td>04/05/2021</td>\n",
       "      <td>NaN</td>\n",
       "      <td>NaN</td>\n",
       "      <td>Leh</td>\n",
       "      <td>Ladakh</td>\n",
       "      <td>Hospitalized</td>\n",
       "    </tr>\n",
       "    <tr>\n",
       "      <th>24059</th>\n",
       "      <td>46</td>\n",
       "      <td>04/05/2021</td>\n",
       "      <td>NaN</td>\n",
       "      <td>NaN</td>\n",
       "      <td>Kargil</td>\n",
       "      <td>Ladakh</td>\n",
       "      <td>Hospitalized</td>\n",
       "    </tr>\n",
       "    <tr>\n",
       "      <th>24060</th>\n",
       "      <td>137</td>\n",
       "      <td>04/05/2021</td>\n",
       "      <td>NaN</td>\n",
       "      <td>NaN</td>\n",
       "      <td>Leh</td>\n",
       "      <td>Ladakh</td>\n",
       "      <td>Recovered</td>\n",
       "    </tr>\n",
       "    <tr>\n",
       "      <th>24061</th>\n",
       "      <td>14</td>\n",
       "      <td>04/05/2021</td>\n",
       "      <td>NaN</td>\n",
       "      <td>NaN</td>\n",
       "      <td>Kargil</td>\n",
       "      <td>Ladakh</td>\n",
       "      <td>Recovered</td>\n",
       "    </tr>\n",
       "    <tr>\n",
       "      <th>24062</th>\n",
       "      <td>3</td>\n",
       "      <td>04/05/2021</td>\n",
       "      <td>NaN</td>\n",
       "      <td>NaN</td>\n",
       "      <td>Leh</td>\n",
       "      <td>Ladakh</td>\n",
       "      <td>Deceased</td>\n",
       "    </tr>\n",
       "  </tbody>\n",
       "</table>\n",
       "<p>133409 rows × 7 columns</p>\n",
       "</div>"
      ],
      "text/plain": [
       "       Num Cases Date Announced  Age Bracket Gender     Detected District  \\\n",
       "0            474     09/01/2021          NaN    NaN                   NaN   \n",
       "1              2     09/01/2021          NaN    NaN                   NaN   \n",
       "2              4     09/01/2021          NaN    NaN              Adilabad   \n",
       "3              8     09/01/2021          NaN    NaN  Bhadradri Kothagudem   \n",
       "4             61     09/01/2021          NaN    NaN             Hyderabad   \n",
       "...          ...            ...          ...    ...                   ...   \n",
       "24058        199     04/05/2021          NaN    NaN                   Leh   \n",
       "24059         46     04/05/2021          NaN    NaN                Kargil   \n",
       "24060        137     04/05/2021          NaN    NaN                   Leh   \n",
       "24061         14     04/05/2021          NaN    NaN                Kargil   \n",
       "24062          3     04/05/2021          NaN    NaN                   Leh   \n",
       "\n",
       "      Detected State Current Status  \n",
       "0          Telangana      Recovered  \n",
       "1          Telangana       Deceased  \n",
       "2          Telangana   Hospitalized  \n",
       "3          Telangana   Hospitalized  \n",
       "4          Telangana   Hospitalized  \n",
       "...              ...            ...  \n",
       "24058         Ladakh   Hospitalized  \n",
       "24059         Ladakh   Hospitalized  \n",
       "24060         Ladakh      Recovered  \n",
       "24061         Ladakh      Recovered  \n",
       "24062         Ladakh       Deceased  \n",
       "\n",
       "[133409 rows x 7 columns]"
      ]
     },
     "execution_count": 9,
     "metadata": {},
     "output_type": "execute_result"
    }
   ],
   "source": [
    "df"
   ]
  },
  {
   "cell_type": "code",
   "execution_count": 10,
   "metadata": {},
   "outputs": [
    {
     "data": {
      "text/html": [
       "<div>\n",
       "<style scoped>\n",
       "    .dataframe tbody tr th:only-of-type {\n",
       "        vertical-align: middle;\n",
       "    }\n",
       "\n",
       "    .dataframe tbody tr th {\n",
       "        vertical-align: top;\n",
       "    }\n",
       "\n",
       "    .dataframe thead th {\n",
       "        text-align: right;\n",
       "    }\n",
       "</style>\n",
       "<table border=\"1\" class=\"dataframe\">\n",
       "  <thead>\n",
       "    <tr style=\"text-align: right;\">\n",
       "      <th></th>\n",
       "      <th>Day</th>\n",
       "      <th>Month</th>\n",
       "      <th>Year</th>\n",
       "    </tr>\n",
       "  </thead>\n",
       "  <tbody>\n",
       "    <tr>\n",
       "      <th>0</th>\n",
       "      <td>09</td>\n",
       "      <td>01</td>\n",
       "      <td>2021</td>\n",
       "    </tr>\n",
       "    <tr>\n",
       "      <th>1</th>\n",
       "      <td>09</td>\n",
       "      <td>01</td>\n",
       "      <td>2021</td>\n",
       "    </tr>\n",
       "    <tr>\n",
       "      <th>2</th>\n",
       "      <td>09</td>\n",
       "      <td>01</td>\n",
       "      <td>2021</td>\n",
       "    </tr>\n",
       "    <tr>\n",
       "      <th>3</th>\n",
       "      <td>09</td>\n",
       "      <td>01</td>\n",
       "      <td>2021</td>\n",
       "    </tr>\n",
       "    <tr>\n",
       "      <th>4</th>\n",
       "      <td>09</td>\n",
       "      <td>01</td>\n",
       "      <td>2021</td>\n",
       "    </tr>\n",
       "    <tr>\n",
       "      <th>...</th>\n",
       "      <td>...</td>\n",
       "      <td>...</td>\n",
       "      <td>...</td>\n",
       "    </tr>\n",
       "    <tr>\n",
       "      <th>24058</th>\n",
       "      <td>04</td>\n",
       "      <td>05</td>\n",
       "      <td>2021</td>\n",
       "    </tr>\n",
       "    <tr>\n",
       "      <th>24059</th>\n",
       "      <td>04</td>\n",
       "      <td>05</td>\n",
       "      <td>2021</td>\n",
       "    </tr>\n",
       "    <tr>\n",
       "      <th>24060</th>\n",
       "      <td>04</td>\n",
       "      <td>05</td>\n",
       "      <td>2021</td>\n",
       "    </tr>\n",
       "    <tr>\n",
       "      <th>24061</th>\n",
       "      <td>04</td>\n",
       "      <td>05</td>\n",
       "      <td>2021</td>\n",
       "    </tr>\n",
       "    <tr>\n",
       "      <th>24062</th>\n",
       "      <td>04</td>\n",
       "      <td>05</td>\n",
       "      <td>2021</td>\n",
       "    </tr>\n",
       "  </tbody>\n",
       "</table>\n",
       "<p>133409 rows × 3 columns</p>\n",
       "</div>"
      ],
      "text/plain": [
       "      Day Month  Year\n",
       "0      09    01  2021\n",
       "1      09    01  2021\n",
       "2      09    01  2021\n",
       "3      09    01  2021\n",
       "4      09    01  2021\n",
       "...    ..   ...   ...\n",
       "24058  04    05  2021\n",
       "24059  04    05  2021\n",
       "24060  04    05  2021\n",
       "24061  04    05  2021\n",
       "24062  04    05  2021\n",
       "\n",
       "[133409 rows x 3 columns]"
      ]
     },
     "execution_count": 10,
     "metadata": {},
     "output_type": "execute_result"
    }
   ],
   "source": [
    "Date = df['Date Announced'].str.split('/',expand = True)\n",
    "Date.columns=['Day','Month','Year']\n",
    "Date"
   ]
  },
  {
   "cell_type": "code",
   "execution_count": 11,
   "metadata": {},
   "outputs": [
    {
     "data": {
      "text/html": [
       "<div>\n",
       "<style scoped>\n",
       "    .dataframe tbody tr th:only-of-type {\n",
       "        vertical-align: middle;\n",
       "    }\n",
       "\n",
       "    .dataframe tbody tr th {\n",
       "        vertical-align: top;\n",
       "    }\n",
       "\n",
       "    .dataframe thead th {\n",
       "        text-align: right;\n",
       "    }\n",
       "</style>\n",
       "<table border=\"1\" class=\"dataframe\">\n",
       "  <thead>\n",
       "    <tr style=\"text-align: right;\">\n",
       "      <th></th>\n",
       "      <th>Num Cases</th>\n",
       "      <th>Date Announced</th>\n",
       "      <th>Age Bracket</th>\n",
       "      <th>Gender</th>\n",
       "      <th>Detected District</th>\n",
       "      <th>Detected State</th>\n",
       "      <th>Current Status</th>\n",
       "      <th>Day</th>\n",
       "      <th>Month</th>\n",
       "      <th>Year</th>\n",
       "    </tr>\n",
       "  </thead>\n",
       "  <tbody>\n",
       "    <tr>\n",
       "      <th>0</th>\n",
       "      <td>474</td>\n",
       "      <td>09/01/2021</td>\n",
       "      <td>NaN</td>\n",
       "      <td>NaN</td>\n",
       "      <td>NaN</td>\n",
       "      <td>Telangana</td>\n",
       "      <td>Recovered</td>\n",
       "      <td>09</td>\n",
       "      <td>01</td>\n",
       "      <td>2021</td>\n",
       "    </tr>\n",
       "    <tr>\n",
       "      <th>1</th>\n",
       "      <td>2</td>\n",
       "      <td>09/01/2021</td>\n",
       "      <td>NaN</td>\n",
       "      <td>NaN</td>\n",
       "      <td>NaN</td>\n",
       "      <td>Telangana</td>\n",
       "      <td>Deceased</td>\n",
       "      <td>09</td>\n",
       "      <td>01</td>\n",
       "      <td>2021</td>\n",
       "    </tr>\n",
       "    <tr>\n",
       "      <th>2</th>\n",
       "      <td>4</td>\n",
       "      <td>09/01/2021</td>\n",
       "      <td>NaN</td>\n",
       "      <td>NaN</td>\n",
       "      <td>Adilabad</td>\n",
       "      <td>Telangana</td>\n",
       "      <td>Hospitalized</td>\n",
       "      <td>09</td>\n",
       "      <td>01</td>\n",
       "      <td>2021</td>\n",
       "    </tr>\n",
       "    <tr>\n",
       "      <th>3</th>\n",
       "      <td>8</td>\n",
       "      <td>09/01/2021</td>\n",
       "      <td>NaN</td>\n",
       "      <td>NaN</td>\n",
       "      <td>Bhadradri Kothagudem</td>\n",
       "      <td>Telangana</td>\n",
       "      <td>Hospitalized</td>\n",
       "      <td>09</td>\n",
       "      <td>01</td>\n",
       "      <td>2021</td>\n",
       "    </tr>\n",
       "    <tr>\n",
       "      <th>4</th>\n",
       "      <td>61</td>\n",
       "      <td>09/01/2021</td>\n",
       "      <td>NaN</td>\n",
       "      <td>NaN</td>\n",
       "      <td>Hyderabad</td>\n",
       "      <td>Telangana</td>\n",
       "      <td>Hospitalized</td>\n",
       "      <td>09</td>\n",
       "      <td>01</td>\n",
       "      <td>2021</td>\n",
       "    </tr>\n",
       "    <tr>\n",
       "      <th>...</th>\n",
       "      <td>...</td>\n",
       "      <td>...</td>\n",
       "      <td>...</td>\n",
       "      <td>...</td>\n",
       "      <td>...</td>\n",
       "      <td>...</td>\n",
       "      <td>...</td>\n",
       "      <td>...</td>\n",
       "      <td>...</td>\n",
       "      <td>...</td>\n",
       "    </tr>\n",
       "    <tr>\n",
       "      <th>24058</th>\n",
       "      <td>199</td>\n",
       "      <td>04/05/2021</td>\n",
       "      <td>NaN</td>\n",
       "      <td>NaN</td>\n",
       "      <td>Leh</td>\n",
       "      <td>Ladakh</td>\n",
       "      <td>Hospitalized</td>\n",
       "      <td>04</td>\n",
       "      <td>05</td>\n",
       "      <td>2021</td>\n",
       "    </tr>\n",
       "    <tr>\n",
       "      <th>24059</th>\n",
       "      <td>46</td>\n",
       "      <td>04/05/2021</td>\n",
       "      <td>NaN</td>\n",
       "      <td>NaN</td>\n",
       "      <td>Kargil</td>\n",
       "      <td>Ladakh</td>\n",
       "      <td>Hospitalized</td>\n",
       "      <td>04</td>\n",
       "      <td>05</td>\n",
       "      <td>2021</td>\n",
       "    </tr>\n",
       "    <tr>\n",
       "      <th>24060</th>\n",
       "      <td>137</td>\n",
       "      <td>04/05/2021</td>\n",
       "      <td>NaN</td>\n",
       "      <td>NaN</td>\n",
       "      <td>Leh</td>\n",
       "      <td>Ladakh</td>\n",
       "      <td>Recovered</td>\n",
       "      <td>04</td>\n",
       "      <td>05</td>\n",
       "      <td>2021</td>\n",
       "    </tr>\n",
       "    <tr>\n",
       "      <th>24061</th>\n",
       "      <td>14</td>\n",
       "      <td>04/05/2021</td>\n",
       "      <td>NaN</td>\n",
       "      <td>NaN</td>\n",
       "      <td>Kargil</td>\n",
       "      <td>Ladakh</td>\n",
       "      <td>Recovered</td>\n",
       "      <td>04</td>\n",
       "      <td>05</td>\n",
       "      <td>2021</td>\n",
       "    </tr>\n",
       "    <tr>\n",
       "      <th>24062</th>\n",
       "      <td>3</td>\n",
       "      <td>04/05/2021</td>\n",
       "      <td>NaN</td>\n",
       "      <td>NaN</td>\n",
       "      <td>Leh</td>\n",
       "      <td>Ladakh</td>\n",
       "      <td>Deceased</td>\n",
       "      <td>04</td>\n",
       "      <td>05</td>\n",
       "      <td>2021</td>\n",
       "    </tr>\n",
       "  </tbody>\n",
       "</table>\n",
       "<p>133409 rows × 10 columns</p>\n",
       "</div>"
      ],
      "text/plain": [
       "       Num Cases Date Announced  Age Bracket Gender     Detected District  \\\n",
       "0            474     09/01/2021          NaN    NaN                   NaN   \n",
       "1              2     09/01/2021          NaN    NaN                   NaN   \n",
       "2              4     09/01/2021          NaN    NaN              Adilabad   \n",
       "3              8     09/01/2021          NaN    NaN  Bhadradri Kothagudem   \n",
       "4             61     09/01/2021          NaN    NaN             Hyderabad   \n",
       "...          ...            ...          ...    ...                   ...   \n",
       "24058        199     04/05/2021          NaN    NaN                   Leh   \n",
       "24059         46     04/05/2021          NaN    NaN                Kargil   \n",
       "24060        137     04/05/2021          NaN    NaN                   Leh   \n",
       "24061         14     04/05/2021          NaN    NaN                Kargil   \n",
       "24062          3     04/05/2021          NaN    NaN                   Leh   \n",
       "\n",
       "      Detected State Current Status Day Month  Year  \n",
       "0          Telangana      Recovered  09    01  2021  \n",
       "1          Telangana       Deceased  09    01  2021  \n",
       "2          Telangana   Hospitalized  09    01  2021  \n",
       "3          Telangana   Hospitalized  09    01  2021  \n",
       "4          Telangana   Hospitalized  09    01  2021  \n",
       "...              ...            ...  ..   ...   ...  \n",
       "24058         Ladakh   Hospitalized  04    05  2021  \n",
       "24059         Ladakh   Hospitalized  04    05  2021  \n",
       "24060         Ladakh      Recovered  04    05  2021  \n",
       "24061         Ladakh      Recovered  04    05  2021  \n",
       "24062         Ladakh       Deceased  04    05  2021  \n",
       "\n",
       "[133409 rows x 10 columns]"
      ]
     },
     "execution_count": 11,
     "metadata": {},
     "output_type": "execute_result"
    }
   ],
   "source": [
    "\n",
    "\n",
    "df = pd.concat([df,Date],axis=1)\n",
    "df"
   ]
  },
  {
   "cell_type": "code",
   "execution_count": 12,
   "metadata": {},
   "outputs": [],
   "source": [
    "df.to_csv('Covid19India1.csv')"
   ]
  },
  {
   "cell_type": "code",
   "execution_count": 13,
   "metadata": {},
   "outputs": [],
   "source": [
    "import pandas as pd\n",
    "import numpy as np \n",
    "import matplotlib.pyplot as plt\n",
    "%matplotlib inline"
   ]
  },
  {
   "cell_type": "code",
   "execution_count": 14,
   "metadata": {},
   "outputs": [
    {
     "data": {
      "text/html": [
       "<div>\n",
       "<style scoped>\n",
       "    .dataframe tbody tr th:only-of-type {\n",
       "        vertical-align: middle;\n",
       "    }\n",
       "\n",
       "    .dataframe tbody tr th {\n",
       "        vertical-align: top;\n",
       "    }\n",
       "\n",
       "    .dataframe thead th {\n",
       "        text-align: right;\n",
       "    }\n",
       "</style>\n",
       "<table border=\"1\" class=\"dataframe\">\n",
       "  <thead>\n",
       "    <tr style=\"text-align: right;\">\n",
       "      <th></th>\n",
       "      <th>Unnamed: 0</th>\n",
       "      <th>Num Cases</th>\n",
       "      <th>Date Announced</th>\n",
       "      <th>Age Bracket</th>\n",
       "      <th>Gender</th>\n",
       "      <th>Detected District</th>\n",
       "      <th>Detected State</th>\n",
       "      <th>Current Status</th>\n",
       "      <th>Day</th>\n",
       "      <th>Month</th>\n",
       "      <th>Year</th>\n",
       "    </tr>\n",
       "  </thead>\n",
       "  <tbody>\n",
       "    <tr>\n",
       "      <th>0</th>\n",
       "      <td>0</td>\n",
       "      <td>474</td>\n",
       "      <td>09-01-2021</td>\n",
       "      <td>NaN</td>\n",
       "      <td>NaN</td>\n",
       "      <td>NaN</td>\n",
       "      <td>Telangana</td>\n",
       "      <td>Recovered</td>\n",
       "      <td>9</td>\n",
       "      <td>1</td>\n",
       "      <td>2021</td>\n",
       "    </tr>\n",
       "    <tr>\n",
       "      <th>1</th>\n",
       "      <td>1</td>\n",
       "      <td>2</td>\n",
       "      <td>09-01-2021</td>\n",
       "      <td>NaN</td>\n",
       "      <td>NaN</td>\n",
       "      <td>NaN</td>\n",
       "      <td>Telangana</td>\n",
       "      <td>Deceased</td>\n",
       "      <td>9</td>\n",
       "      <td>1</td>\n",
       "      <td>2021</td>\n",
       "    </tr>\n",
       "    <tr>\n",
       "      <th>2</th>\n",
       "      <td>2</td>\n",
       "      <td>4</td>\n",
       "      <td>09-01-2021</td>\n",
       "      <td>NaN</td>\n",
       "      <td>NaN</td>\n",
       "      <td>Adilabad</td>\n",
       "      <td>Telangana</td>\n",
       "      <td>Hospitalized</td>\n",
       "      <td>9</td>\n",
       "      <td>1</td>\n",
       "      <td>2021</td>\n",
       "    </tr>\n",
       "    <tr>\n",
       "      <th>3</th>\n",
       "      <td>3</td>\n",
       "      <td>8</td>\n",
       "      <td>09-01-2021</td>\n",
       "      <td>NaN</td>\n",
       "      <td>NaN</td>\n",
       "      <td>Bhadradri Kothagudem</td>\n",
       "      <td>Telangana</td>\n",
       "      <td>Hospitalized</td>\n",
       "      <td>9</td>\n",
       "      <td>1</td>\n",
       "      <td>2021</td>\n",
       "    </tr>\n",
       "    <tr>\n",
       "      <th>4</th>\n",
       "      <td>4</td>\n",
       "      <td>61</td>\n",
       "      <td>09-01-2021</td>\n",
       "      <td>NaN</td>\n",
       "      <td>NaN</td>\n",
       "      <td>Hyderabad</td>\n",
       "      <td>Telangana</td>\n",
       "      <td>Hospitalized</td>\n",
       "      <td>9</td>\n",
       "      <td>1</td>\n",
       "      <td>2021</td>\n",
       "    </tr>\n",
       "  </tbody>\n",
       "</table>\n",
       "</div>"
      ],
      "text/plain": [
       "   Unnamed: 0  Num Cases Date Announced  Age Bracket Gender  \\\n",
       "0           0        474     09-01-2021          NaN    NaN   \n",
       "1           1          2     09-01-2021          NaN    NaN   \n",
       "2           2          4     09-01-2021          NaN    NaN   \n",
       "3           3          8     09-01-2021          NaN    NaN   \n",
       "4           4         61     09-01-2021          NaN    NaN   \n",
       "\n",
       "      Detected District Detected State Current Status  Day  Month  Year  \n",
       "0                   NaN      Telangana      Recovered    9      1  2021  \n",
       "1                   NaN      Telangana       Deceased    9      1  2021  \n",
       "2              Adilabad      Telangana   Hospitalized    9      1  2021  \n",
       "3  Bhadradri Kothagudem      Telangana   Hospitalized    9      1  2021  \n",
       "4             Hyderabad      Telangana   Hospitalized    9      1  2021  "
      ]
     },
     "execution_count": 14,
     "metadata": {},
     "output_type": "execute_result"
    }
   ],
   "source": [
    "df = pd.read_csv('Covid19India.csv')\n",
    "df.head()"
   ]
  },
  {
   "cell_type": "code",
   "execution_count": 15,
   "metadata": {},
   "outputs": [
    {
     "data": {
      "text/html": [
       "<div>\n",
       "<style scoped>\n",
       "    .dataframe tbody tr th:only-of-type {\n",
       "        vertical-align: middle;\n",
       "    }\n",
       "\n",
       "    .dataframe tbody tr th {\n",
       "        vertical-align: top;\n",
       "    }\n",
       "\n",
       "    .dataframe thead th {\n",
       "        text-align: right;\n",
       "    }\n",
       "</style>\n",
       "<table border=\"1\" class=\"dataframe\">\n",
       "  <thead>\n",
       "    <tr style=\"text-align: right;\">\n",
       "      <th></th>\n",
       "      <th>Num Cases</th>\n",
       "      <th>Date Announced</th>\n",
       "      <th>Age Bracket</th>\n",
       "      <th>Gender</th>\n",
       "      <th>Detected District</th>\n",
       "      <th>Detected State</th>\n",
       "      <th>Current Status</th>\n",
       "      <th>Day</th>\n",
       "      <th>Month</th>\n",
       "      <th>Year</th>\n",
       "    </tr>\n",
       "  </thead>\n",
       "  <tbody>\n",
       "    <tr>\n",
       "      <th>0</th>\n",
       "      <td>474</td>\n",
       "      <td>09-01-2021</td>\n",
       "      <td>NaN</td>\n",
       "      <td>NaN</td>\n",
       "      <td>NaN</td>\n",
       "      <td>Telangana</td>\n",
       "      <td>Recovered</td>\n",
       "      <td>9</td>\n",
       "      <td>1</td>\n",
       "      <td>2021</td>\n",
       "    </tr>\n",
       "    <tr>\n",
       "      <th>1</th>\n",
       "      <td>2</td>\n",
       "      <td>09-01-2021</td>\n",
       "      <td>NaN</td>\n",
       "      <td>NaN</td>\n",
       "      <td>NaN</td>\n",
       "      <td>Telangana</td>\n",
       "      <td>Deceased</td>\n",
       "      <td>9</td>\n",
       "      <td>1</td>\n",
       "      <td>2021</td>\n",
       "    </tr>\n",
       "    <tr>\n",
       "      <th>2</th>\n",
       "      <td>4</td>\n",
       "      <td>09-01-2021</td>\n",
       "      <td>NaN</td>\n",
       "      <td>NaN</td>\n",
       "      <td>Adilabad</td>\n",
       "      <td>Telangana</td>\n",
       "      <td>Hospitalized</td>\n",
       "      <td>9</td>\n",
       "      <td>1</td>\n",
       "      <td>2021</td>\n",
       "    </tr>\n",
       "    <tr>\n",
       "      <th>3</th>\n",
       "      <td>8</td>\n",
       "      <td>09-01-2021</td>\n",
       "      <td>NaN</td>\n",
       "      <td>NaN</td>\n",
       "      <td>Bhadradri Kothagudem</td>\n",
       "      <td>Telangana</td>\n",
       "      <td>Hospitalized</td>\n",
       "      <td>9</td>\n",
       "      <td>1</td>\n",
       "      <td>2021</td>\n",
       "    </tr>\n",
       "    <tr>\n",
       "      <th>4</th>\n",
       "      <td>61</td>\n",
       "      <td>09-01-2021</td>\n",
       "      <td>NaN</td>\n",
       "      <td>NaN</td>\n",
       "      <td>Hyderabad</td>\n",
       "      <td>Telangana</td>\n",
       "      <td>Hospitalized</td>\n",
       "      <td>9</td>\n",
       "      <td>1</td>\n",
       "      <td>2021</td>\n",
       "    </tr>\n",
       "    <tr>\n",
       "      <th>...</th>\n",
       "      <td>...</td>\n",
       "      <td>...</td>\n",
       "      <td>...</td>\n",
       "      <td>...</td>\n",
       "      <td>...</td>\n",
       "      <td>...</td>\n",
       "      <td>...</td>\n",
       "      <td>...</td>\n",
       "      <td>...</td>\n",
       "      <td>...</td>\n",
       "    </tr>\n",
       "    <tr>\n",
       "      <th>133403</th>\n",
       "      <td>199</td>\n",
       "      <td>04-05-2021</td>\n",
       "      <td>NaN</td>\n",
       "      <td>NaN</td>\n",
       "      <td>Leh</td>\n",
       "      <td>Ladakh</td>\n",
       "      <td>Hospitalized</td>\n",
       "      <td>4</td>\n",
       "      <td>5</td>\n",
       "      <td>2021</td>\n",
       "    </tr>\n",
       "    <tr>\n",
       "      <th>133404</th>\n",
       "      <td>46</td>\n",
       "      <td>04-05-2021</td>\n",
       "      <td>NaN</td>\n",
       "      <td>NaN</td>\n",
       "      <td>Kargil</td>\n",
       "      <td>Ladakh</td>\n",
       "      <td>Hospitalized</td>\n",
       "      <td>4</td>\n",
       "      <td>5</td>\n",
       "      <td>2021</td>\n",
       "    </tr>\n",
       "    <tr>\n",
       "      <th>133405</th>\n",
       "      <td>137</td>\n",
       "      <td>04-05-2021</td>\n",
       "      <td>NaN</td>\n",
       "      <td>NaN</td>\n",
       "      <td>Leh</td>\n",
       "      <td>Ladakh</td>\n",
       "      <td>Recovered</td>\n",
       "      <td>4</td>\n",
       "      <td>5</td>\n",
       "      <td>2021</td>\n",
       "    </tr>\n",
       "    <tr>\n",
       "      <th>133406</th>\n",
       "      <td>14</td>\n",
       "      <td>04-05-2021</td>\n",
       "      <td>NaN</td>\n",
       "      <td>NaN</td>\n",
       "      <td>Kargil</td>\n",
       "      <td>Ladakh</td>\n",
       "      <td>Recovered</td>\n",
       "      <td>4</td>\n",
       "      <td>5</td>\n",
       "      <td>2021</td>\n",
       "    </tr>\n",
       "    <tr>\n",
       "      <th>133407</th>\n",
       "      <td>3</td>\n",
       "      <td>04-05-2021</td>\n",
       "      <td>NaN</td>\n",
       "      <td>NaN</td>\n",
       "      <td>Leh</td>\n",
       "      <td>Ladakh</td>\n",
       "      <td>Deceased</td>\n",
       "      <td>4</td>\n",
       "      <td>5</td>\n",
       "      <td>2021</td>\n",
       "    </tr>\n",
       "  </tbody>\n",
       "</table>\n",
       "<p>133408 rows × 10 columns</p>\n",
       "</div>"
      ],
      "text/plain": [
       "        Num Cases Date Announced  Age Bracket Gender     Detected District  \\\n",
       "0             474     09-01-2021          NaN    NaN                   NaN   \n",
       "1               2     09-01-2021          NaN    NaN                   NaN   \n",
       "2               4     09-01-2021          NaN    NaN              Adilabad   \n",
       "3               8     09-01-2021          NaN    NaN  Bhadradri Kothagudem   \n",
       "4              61     09-01-2021          NaN    NaN             Hyderabad   \n",
       "...           ...            ...          ...    ...                   ...   \n",
       "133403        199     04-05-2021          NaN    NaN                   Leh   \n",
       "133404         46     04-05-2021          NaN    NaN                Kargil   \n",
       "133405        137     04-05-2021          NaN    NaN                   Leh   \n",
       "133406         14     04-05-2021          NaN    NaN                Kargil   \n",
       "133407          3     04-05-2021          NaN    NaN                   Leh   \n",
       "\n",
       "       Detected State Current Status  Day  Month  Year  \n",
       "0           Telangana      Recovered    9      1  2021  \n",
       "1           Telangana       Deceased    9      1  2021  \n",
       "2           Telangana   Hospitalized    9      1  2021  \n",
       "3           Telangana   Hospitalized    9      1  2021  \n",
       "4           Telangana   Hospitalized    9      1  2021  \n",
       "...               ...            ...  ...    ...   ...  \n",
       "133403         Ladakh   Hospitalized    4      5  2021  \n",
       "133404         Ladakh   Hospitalized    4      5  2021  \n",
       "133405         Ladakh      Recovered    4      5  2021  \n",
       "133406         Ladakh      Recovered    4      5  2021  \n",
       "133407         Ladakh       Deceased    4      5  2021  \n",
       "\n",
       "[133408 rows x 10 columns]"
      ]
     },
     "execution_count": 15,
     "metadata": {},
     "output_type": "execute_result"
    }
   ],
   "source": [
    "data = df.iloc[:,1:]\n",
    "data"
   ]
  },
  {
   "cell_type": "code",
   "execution_count": 16,
   "metadata": {},
   "outputs": [
    {
     "name": "stdout",
     "output_type": "stream",
     "text": [
      "<class 'pandas.core.frame.DataFrame'>\n",
      "RangeIndex: 133408 entries, 0 to 133407\n",
      "Data columns (total 11 columns):\n",
      " #   Column             Non-Null Count   Dtype  \n",
      "---  ------             --------------   -----  \n",
      " 0   Unnamed: 0         133408 non-null  int64  \n",
      " 1   Num Cases          133408 non-null  int64  \n",
      " 2   Date Announced     133408 non-null  object \n",
      " 3   Age Bracket        1871 non-null    float64\n",
      " 4   Gender             1869 non-null    object \n",
      " 5   Detected District  131748 non-null  object \n",
      " 6   Detected State     133408 non-null  object \n",
      " 7   Current Status     133408 non-null  object \n",
      " 8   Day                133408 non-null  int64  \n",
      " 9   Month              133408 non-null  int64  \n",
      " 10  Year               133408 non-null  int64  \n",
      "dtypes: float64(1), int64(5), object(5)\n",
      "memory usage: 11.2+ MB\n"
     ]
    }
   ],
   "source": [
    "df.info()"
   ]
  },
  {
   "cell_type": "code",
   "execution_count": 17,
   "metadata": {},
   "outputs": [
    {
     "data": {
      "text/plain": [
       "Num Cases                 0\n",
       "Date Announced            0\n",
       "Detected State            0\n",
       "Current Status            0\n",
       "Day                       0\n",
       "Month                     0\n",
       "Year                      0\n",
       "Detected District      1660\n",
       "Age Bracket          131537\n",
       "Gender               131539\n",
       "dtype: int64"
      ]
     },
     "execution_count": 17,
     "metadata": {},
     "output_type": "execute_result"
    }
   ],
   "source": [
    "data.isnull().sum(axis=0).sort_values()"
   ]
  },
  {
   "cell_type": "code",
   "execution_count": 18,
   "metadata": {},
   "outputs": [
    {
     "data": {
      "text/plain": [
       "Month\n",
       "1      707966\n",
       "2      706824\n",
       "3     1802650\n",
       "4    11189532\n",
       "5     2781464\n",
       "Name: Num Cases, dtype: int64"
      ]
     },
     "execution_count": 18,
     "metadata": {},
     "output_type": "execute_result"
    }
   ],
   "source": [
    "data.groupby('Month')['Num Cases'].sum()"
   ]
  },
  {
   "cell_type": "code",
   "execution_count": 19,
   "metadata": {},
   "outputs": [
    {
     "data": {
      "text/html": [
       "<div>\n",
       "<style scoped>\n",
       "    .dataframe tbody tr th:only-of-type {\n",
       "        vertical-align: middle;\n",
       "    }\n",
       "\n",
       "    .dataframe tbody tr th {\n",
       "        vertical-align: top;\n",
       "    }\n",
       "\n",
       "    .dataframe thead th {\n",
       "        text-align: right;\n",
       "    }\n",
       "</style>\n",
       "<table border=\"1\" class=\"dataframe\">\n",
       "  <thead>\n",
       "    <tr style=\"text-align: right;\">\n",
       "      <th></th>\n",
       "      <th>Num Cases</th>\n",
       "      <th>Date Announced</th>\n",
       "      <th>Age Bracket</th>\n",
       "      <th>Gender</th>\n",
       "      <th>Detected District</th>\n",
       "      <th>Detected State</th>\n",
       "      <th>Current Status</th>\n",
       "      <th>Day</th>\n",
       "      <th>Month</th>\n",
       "      <th>Year</th>\n",
       "    </tr>\n",
       "  </thead>\n",
       "  <tbody>\n",
       "  </tbody>\n",
       "</table>\n",
       "</div>"
      ],
      "text/plain": [
       "Empty DataFrame\n",
       "Columns: [Num Cases, Date Announced, Age Bracket, Gender, Detected District, Detected State, Current Status, Day, Month, Year]\n",
       "Index: []"
      ]
     },
     "execution_count": 19,
     "metadata": {},
     "output_type": "execute_result"
    }
   ],
   "source": [
    "m = data[data['Month']== 8]\n",
    "m"
   ]
  },
  {
   "cell_type": "code",
   "execution_count": 20,
   "metadata": {},
   "outputs": [
    {
     "data": {
      "text/plain": [
       "0         False\n",
       "1         False\n",
       "2          True\n",
       "3          True\n",
       "4          True\n",
       "          ...  \n",
       "133403     True\n",
       "133404     True\n",
       "133405    False\n",
       "133406    False\n",
       "133407    False\n",
       "Name: Current Status, Length: 133408, dtype: bool"
      ]
     },
     "execution_count": 20,
     "metadata": {},
     "output_type": "execute_result"
    }
   ],
   "source": [
    "data['Current Status'] == 'Hospitalized'"
   ]
  },
  {
   "cell_type": "code",
   "execution_count": 21,
   "metadata": {},
   "outputs": [
    {
     "data": {
      "text/plain": [
       "Month  Year\n",
       "1      2021     326101\n",
       "2      2021     353426\n",
       "3      2021    1108660\n",
       "4      2021    6936480\n",
       "5      2021    1501282\n",
       "Name: Num Cases, dtype: int64"
      ]
     },
     "execution_count": 21,
     "metadata": {},
     "output_type": "execute_result"
    }
   ],
   "source": [
    "M = data[data['Current Status'] == 'Hospitalized'].groupby(['Month','Year'])['Num Cases'].sum()\n",
    "M"
   ]
  },
  {
   "cell_type": "code",
   "execution_count": 22,
   "metadata": {},
   "outputs": [
    {
     "data": {
      "image/png": "[encoded data removed]",
      "text/plain": [
       "<Figure size 432x288 with 1 Axes>"
      ]
     },
     "metadata": {
      "needs_background": "light"
     },
     "output_type": "display_data"
    }
   ],
   "source": [
    "M.plot.bar()\n",
    "plt.show()"
   ]
  },
  {
   "cell_type": "code",
   "execution_count": 23,
   "metadata": {},
   "outputs": [
    {
     "data": {
      "text/plain": [
       "Gender\n",
       "F     1002\n",
       "F        6\n",
       "M     2522\n",
       "M        5\n",
       "Name: Num Cases, dtype: int64"
      ]
     },
     "execution_count": 23,
     "metadata": {},
     "output_type": "execute_result"
    }
   ],
   "source": [
    "data.groupby('Gender')['Num Cases'].sum()"
   ]
  },
  {
   "cell_type": "code",
   "execution_count": 24,
   "metadata": {},
   "outputs": [
    {
     "data": {
      "text/plain": [
       "Age Bracket\n",
       "58.0    1376\n",
       "83.0     369\n",
       "70.0      94\n",
       "65.0      90\n",
       "75.0      84\n",
       "72.0      68\n",
       "80.0      67\n",
       "60.0      61\n",
       "62.0      52\n",
       "63.0      51\n",
       "67.0      51\n",
       "76.0      51\n",
       "68.0      50\n",
       "85.0      49\n",
       "73.0      48\n",
       "78.0      47\n",
       "74.0      44\n",
       "55.0      40\n",
       "52.0      40\n",
       "69.0      40\n",
       "Name: Num Cases, dtype: int64"
      ]
     },
     "execution_count": 24,
     "metadata": {},
     "output_type": "execute_result"
    }
   ],
   "source": [
    "A = data.groupby('Age Bracket')['Num Cases'].sum().sort_values(ascending = False).head(20)\n",
    "A"
   ]
  },
  {
   "cell_type": "code",
   "execution_count": 25,
   "metadata": {},
   "outputs": [
    {
     "data": {
      "image/png": "[encoded data removed]",
      "text/plain": [
       "<Figure size 1080x360 with 1 Axes>"
      ]
     },
     "metadata": {
      "needs_background": "light"
     },
     "output_type": "display_data"
    }
   ],
   "source": [
    "A.plot.bar(figsize = (15,5))\n",
    "plt.show()"
   ]
  },
  {
   "cell_type": "code",
   "execution_count": 26,
   "metadata": {},
   "outputs": [
    {
     "data": {
      "text/plain": [
       "Detected State\n",
       "Maharashtra                                 2860927\n",
       "Kerala                                       900904\n",
       "Uttar Pradesh                                776573\n",
       "Karnataka                                    765066\n",
       "Delhi                                        603660\n",
       "Chhattisgarh                                 499930\n",
       "Tamil Nadu                                   424516\n",
       "Gujarat                                      369874\n",
       "Madhya Pradesh                               365228\n",
       "Rajasthan                                    356130\n",
       "West Bengal                                  339434\n",
       "Andhra Pradesh                               299538\n",
       "Haryana                                      279117\n",
       "Bihar                                        267915\n",
       "Punjab                                       231070\n",
       "Telangana                                    174226\n",
       "Odisha                                       148356\n",
       "Jharkhand                                    140909\n",
       "Uttarakhand                                  110940\n",
       "Jammu and Kashmir                             69571\n",
       "Himachal Pradesh                              54663\n",
       "Assam                                         51394\n",
       "Goa                                           49193\n",
       "Chandigarh                                    25775\n",
       "Puducherry                                    24909\n",
       "Dadra and Nagar Haveli and Daman and Diu       4979\n",
       "Ladakh                                         4959\n",
       "Meghalaya                                      4454\n",
       "Manipur                                        4375\n",
       "Lakshadweep                                    3249\n",
       "Nagaland                                       2753\n",
       "Sikkim                                         2719\n",
       "Tripura                                        2695\n",
       "Arunachal Pradesh                              2429\n",
       "Mizoram                                        2297\n",
       "Andaman and Nicobar Islands                    1222\n",
       "Name: Num Cases, dtype: int64"
      ]
     },
     "execution_count": 26,
     "metadata": {},
     "output_type": "execute_result"
    }
   ],
   "source": [
    "data[data['Current Status']=='Hospitalized'].groupby('Detected State')['Num Cases'].sum().sort_values(ascending = False)"
   ]
  },
  {
   "cell_type": "code",
   "execution_count": 27,
   "metadata": {},
   "outputs": [
    {
     "data": {
      "text/plain": [
       "Month  Day\n",
       "1      6           0\n",
       "       9       18820\n",
       "       10      16086\n",
       "       11      12481\n",
       "       12      15903\n",
       "               ...  \n",
       "4      30     402014\n",
       "5      1      392576\n",
       "       2      370090\n",
       "       3      355769\n",
       "       4      382847\n",
       "Name: Num Cases, Length: 117, dtype: int64"
      ]
     },
     "execution_count": 27,
     "metadata": {},
     "output_type": "execute_result"
    }
   ],
   "source": [
    "Day = data[data['Current Status']=='Hospitalized'].groupby(['Month','Day'])['Num Cases'].sum()\n",
    "Day"
   ]
  },
  {
   "cell_type": "code",
   "execution_count": 28,
   "metadata": {},
   "outputs": [
    {
     "data": {
      "image/png": "[encoded data removed]",
      "text/plain": [
       "<Figure size 720x720 with 5 Axes>"
      ]
     },
     "metadata": {
      "needs_background": "light"
     },
     "output_type": "display_data"
    }
   ],
   "source": [
    "Day.unstack(level=0).plot(kind='bar',subplots=True,figsize=(10,10))\n",
    "plt.show()"
   ]
  },
  {
   "cell_type": "code",
   "execution_count": 29,
   "metadata": {},
   "outputs": [
    {
     "data": {
      "text/plain": [
       "array(['Recovered', 'Deceased', 'Hospitalized', 'Migrated_Other',\n",
       "       'hospitalized', 'Migrated_other'], dtype=object)"
      ]
     },
     "execution_count": 29,
     "metadata": {},
     "output_type": "execute_result"
    }
   ],
   "source": [
    "data['Current Status'].unique()"
   ]
  },
  {
   "cell_type": "code",
   "execution_count": 30,
   "metadata": {},
   "outputs": [
    {
     "data": {
      "text/plain": [
       "75337"
      ]
     },
     "execution_count": 30,
     "metadata": {},
     "output_type": "execute_result"
    }
   ],
   "source": [
    "Death = data[data['Current Status']=='Deceased']['Num Cases'].sum()\n",
    "Death"
   ]
  },
  {
   "cell_type": "code",
   "execution_count": 31,
   "metadata": {},
   "outputs": [
    {
     "data": {
      "text/plain": [
       "Detected State\n",
       "Maharashtra                                 21772\n",
       "Delhi                                        7098\n",
       "Chhattisgarh                                 6016\n",
       "Uttar Pradesh                                5329\n",
       "Karnataka                                    4404\n",
       "Punjab                                       4208\n",
       "Gujarat                                      3444\n",
       "Tamil Nadu                                   2404\n",
       "Madhya Pradesh                               2312\n",
       "Kerala                                       2250\n",
       "Jharkhand                                    2162\n",
       "Rajasthan                                    2139\n",
       "West Bengal                                  1842\n",
       "Haryana                                      1836\n",
       "Bihar                                        1498\n",
       "Uttarakhand                                  1453\n",
       "Andhra Pradesh                               1162\n",
       "Telangana                                     915\n",
       "Himachal Pradesh                              704\n",
       "Goa                                           628\n",
       "Jammu and Kashmir                             551\n",
       "Assam                                         371\n",
       "Puducherry                                    229\n",
       "Odisha                                        198\n",
       "Chandigarh                                    192\n",
       "Manipur                                        60\n",
       "Meghalaya                                      42\n",
       "Nagaland                                       32\n",
       "Ladakh                                         24\n",
       "Sikkim                                         22\n",
       "Tripura                                        12\n",
       "Mizoram                                         9\n",
       "Andaman and Nicobar Islands                     8\n",
       "Lakshadweep                                     6\n",
       "Arunachal Pradesh                               3\n",
       "Dadra and Nagar Haveli and Daman and Diu        2\n",
       "Name: Num Cases, dtype: int64"
      ]
     },
     "execution_count": 31,
     "metadata": {},
     "output_type": "execute_result"
    }
   ],
   "source": [
    "data[data['Current Status']=='Deceased'].groupby('Detected State')['Num Cases'].sum().sort_values(ascending = False)"
   ]
  },
  {
   "cell_type": "code",
   "execution_count": 32,
   "metadata": {},
   "outputs": [
    {
     "data": {
      "text/html": [
       "<div>\n",
       "<style scoped>\n",
       "    .dataframe tbody tr th:only-of-type {\n",
       "        vertical-align: middle;\n",
       "    }\n",
       "\n",
       "    .dataframe tbody tr th {\n",
       "        vertical-align: top;\n",
       "    }\n",
       "\n",
       "    .dataframe thead th {\n",
       "        text-align: right;\n",
       "    }\n",
       "</style>\n",
       "<table border=\"1\" class=\"dataframe\">\n",
       "  <thead>\n",
       "    <tr style=\"text-align: right;\">\n",
       "      <th></th>\n",
       "      <th>Num Cases</th>\n",
       "      <th>Date Announced</th>\n",
       "      <th>Age Bracket</th>\n",
       "      <th>Gender</th>\n",
       "      <th>Detected District</th>\n",
       "      <th>Detected State</th>\n",
       "      <th>Current Status</th>\n",
       "      <th>Day</th>\n",
       "      <th>Month</th>\n",
       "      <th>Year</th>\n",
       "    </tr>\n",
       "  </thead>\n",
       "  <tbody>\n",
       "    <tr>\n",
       "      <th>0</th>\n",
       "      <td>474</td>\n",
       "      <td>09-01-2021</td>\n",
       "      <td>NaN</td>\n",
       "      <td>NaN</td>\n",
       "      <td>NaN</td>\n",
       "      <td>Telangana</td>\n",
       "      <td>Recovered</td>\n",
       "      <td>9</td>\n",
       "      <td>1</td>\n",
       "      <td>2021</td>\n",
       "    </tr>\n",
       "    <tr>\n",
       "      <th>1</th>\n",
       "      <td>2</td>\n",
       "      <td>09-01-2021</td>\n",
       "      <td>NaN</td>\n",
       "      <td>NaN</td>\n",
       "      <td>NaN</td>\n",
       "      <td>Telangana</td>\n",
       "      <td>Deceased</td>\n",
       "      <td>9</td>\n",
       "      <td>1</td>\n",
       "      <td>2021</td>\n",
       "    </tr>\n",
       "    <tr>\n",
       "      <th>2</th>\n",
       "      <td>4</td>\n",
       "      <td>09-01-2021</td>\n",
       "      <td>NaN</td>\n",
       "      <td>NaN</td>\n",
       "      <td>Adilabad</td>\n",
       "      <td>Telangana</td>\n",
       "      <td>Hospitalized</td>\n",
       "      <td>9</td>\n",
       "      <td>1</td>\n",
       "      <td>2021</td>\n",
       "    </tr>\n",
       "    <tr>\n",
       "      <th>3</th>\n",
       "      <td>8</td>\n",
       "      <td>09-01-2021</td>\n",
       "      <td>NaN</td>\n",
       "      <td>NaN</td>\n",
       "      <td>Bhadradri Kothagudem</td>\n",
       "      <td>Telangana</td>\n",
       "      <td>Hospitalized</td>\n",
       "      <td>9</td>\n",
       "      <td>1</td>\n",
       "      <td>2021</td>\n",
       "    </tr>\n",
       "    <tr>\n",
       "      <th>4</th>\n",
       "      <td>61</td>\n",
       "      <td>09-01-2021</td>\n",
       "      <td>NaN</td>\n",
       "      <td>NaN</td>\n",
       "      <td>Hyderabad</td>\n",
       "      <td>Telangana</td>\n",
       "      <td>Hospitalized</td>\n",
       "      <td>9</td>\n",
       "      <td>1</td>\n",
       "      <td>2021</td>\n",
       "    </tr>\n",
       "    <tr>\n",
       "      <th>...</th>\n",
       "      <td>...</td>\n",
       "      <td>...</td>\n",
       "      <td>...</td>\n",
       "      <td>...</td>\n",
       "      <td>...</td>\n",
       "      <td>...</td>\n",
       "      <td>...</td>\n",
       "      <td>...</td>\n",
       "      <td>...</td>\n",
       "      <td>...</td>\n",
       "    </tr>\n",
       "    <tr>\n",
       "      <th>133403</th>\n",
       "      <td>199</td>\n",
       "      <td>04-05-2021</td>\n",
       "      <td>NaN</td>\n",
       "      <td>NaN</td>\n",
       "      <td>Leh</td>\n",
       "      <td>Ladakh</td>\n",
       "      <td>Hospitalized</td>\n",
       "      <td>4</td>\n",
       "      <td>5</td>\n",
       "      <td>2021</td>\n",
       "    </tr>\n",
       "    <tr>\n",
       "      <th>133404</th>\n",
       "      <td>46</td>\n",
       "      <td>04-05-2021</td>\n",
       "      <td>NaN</td>\n",
       "      <td>NaN</td>\n",
       "      <td>Kargil</td>\n",
       "      <td>Ladakh</td>\n",
       "      <td>Hospitalized</td>\n",
       "      <td>4</td>\n",
       "      <td>5</td>\n",
       "      <td>2021</td>\n",
       "    </tr>\n",
       "    <tr>\n",
       "      <th>133405</th>\n",
       "      <td>137</td>\n",
       "      <td>04-05-2021</td>\n",
       "      <td>NaN</td>\n",
       "      <td>NaN</td>\n",
       "      <td>Leh</td>\n",
       "      <td>Ladakh</td>\n",
       "      <td>Recovered</td>\n",
       "      <td>4</td>\n",
       "      <td>5</td>\n",
       "      <td>2021</td>\n",
       "    </tr>\n",
       "    <tr>\n",
       "      <th>133406</th>\n",
       "      <td>14</td>\n",
       "      <td>04-05-2021</td>\n",
       "      <td>NaN</td>\n",
       "      <td>NaN</td>\n",
       "      <td>Kargil</td>\n",
       "      <td>Ladakh</td>\n",
       "      <td>Recovered</td>\n",
       "      <td>4</td>\n",
       "      <td>5</td>\n",
       "      <td>2021</td>\n",
       "    </tr>\n",
       "    <tr>\n",
       "      <th>133407</th>\n",
       "      <td>3</td>\n",
       "      <td>04-05-2021</td>\n",
       "      <td>NaN</td>\n",
       "      <td>NaN</td>\n",
       "      <td>Leh</td>\n",
       "      <td>Ladakh</td>\n",
       "      <td>Deceased</td>\n",
       "      <td>4</td>\n",
       "      <td>5</td>\n",
       "      <td>2021</td>\n",
       "    </tr>\n",
       "  </tbody>\n",
       "</table>\n",
       "<p>133408 rows × 10 columns</p>\n",
       "</div>"
      ],
      "text/plain": [
       "        Num Cases Date Announced  Age Bracket Gender     Detected District  \\\n",
       "0             474     09-01-2021          NaN    NaN                   NaN   \n",
       "1               2     09-01-2021          NaN    NaN                   NaN   \n",
       "2               4     09-01-2021          NaN    NaN              Adilabad   \n",
       "3               8     09-01-2021          NaN    NaN  Bhadradri Kothagudem   \n",
       "4              61     09-01-2021          NaN    NaN             Hyderabad   \n",
       "...           ...            ...          ...    ...                   ...   \n",
       "133403        199     04-05-2021          NaN    NaN                   Leh   \n",
       "133404         46     04-05-2021          NaN    NaN                Kargil   \n",
       "133405        137     04-05-2021          NaN    NaN                   Leh   \n",
       "133406         14     04-05-2021          NaN    NaN                Kargil   \n",
       "133407          3     04-05-2021          NaN    NaN                   Leh   \n",
       "\n",
       "       Detected State Current Status  Day  Month  Year  \n",
       "0           Telangana      Recovered    9      1  2021  \n",
       "1           Telangana       Deceased    9      1  2021  \n",
       "2           Telangana   Hospitalized    9      1  2021  \n",
       "3           Telangana   Hospitalized    9      1  2021  \n",
       "4           Telangana   Hospitalized    9      1  2021  \n",
       "...               ...            ...  ...    ...   ...  \n",
       "133403         Ladakh   Hospitalized    4      5  2021  \n",
       "133404         Ladakh   Hospitalized    4      5  2021  \n",
       "133405         Ladakh      Recovered    4      5  2021  \n",
       "133406         Ladakh      Recovered    4      5  2021  \n",
       "133407         Ladakh       Deceased    4      5  2021  \n",
       "\n",
       "[133408 rows x 10 columns]"
      ]
     },
     "execution_count": 32,
     "metadata": {},
     "output_type": "execute_result"
    }
   ],
   "source": [
    "data = df.iloc[:,1:]\n",
    "data"
   ]
  },
  {
   "cell_type": "code",
   "execution_count": 33,
   "metadata": {},
   "outputs": [
    {
     "data": {
      "text/plain": [
       "Month  Day\n",
       "1      6           0\n",
       "       9       18820\n",
       "       10      16086\n",
       "       11      12481\n",
       "       12      15903\n",
       "               ...  \n",
       "4      30     402014\n",
       "5      1      392576\n",
       "       2      370090\n",
       "       3      355769\n",
       "       4      382847\n",
       "Name: Num Cases, Length: 117, dtype: int64"
      ]
     },
     "execution_count": 33,
     "metadata": {},
     "output_type": "execute_result"
    }
   ],
   "source": [
    "Day = data[data['Current Status']=='Hospitalized'].groupby(['Month','Day'])['Num Cases'].sum()\n",
    "Day"
   ]
  },
  {
   "cell_type": "markdown",
   "metadata": {},
   "source": [
    "## Linaer Regression"
   ]
  },
  {
   "cell_type": "code",
   "execution_count": 92,
   "metadata": {},
   "outputs": [
    {
     "data": {
      "text/plain": [
       "array([[  0],\n",
       "       [  1],\n",
       "       [  2],\n",
       "       [  3],\n",
       "       [  4],\n",
       "       [  5],\n",
       "       [  6],\n",
       "       [  7],\n",
       "       [  8],\n",
       "       [  9],\n",
       "       [ 10],\n",
       "       [ 11],\n",
       "       [ 12],\n",
       "       [ 13],\n",
       "       [ 14],\n",
       "       [ 15],\n",
       "       [ 16],\n",
       "       [ 17],\n",
       "       [ 18],\n",
       "       [ 19],\n",
       "       [ 20],\n",
       "       [ 21],\n",
       "       [ 22],\n",
       "       [ 23],\n",
       "       [ 24],\n",
       "       [ 25],\n",
       "       [ 26],\n",
       "       [ 27],\n",
       "       [ 28],\n",
       "       [ 29],\n",
       "       [ 30],\n",
       "       [ 31],\n",
       "       [ 32],\n",
       "       [ 33],\n",
       "       [ 34],\n",
       "       [ 35],\n",
       "       [ 36],\n",
       "       [ 37],\n",
       "       [ 38],\n",
       "       [ 39],\n",
       "       [ 40],\n",
       "       [ 41],\n",
       "       [ 42],\n",
       "       [ 43],\n",
       "       [ 44],\n",
       "       [ 45],\n",
       "       [ 46],\n",
       "       [ 47],\n",
       "       [ 48],\n",
       "       [ 49],\n",
       "       [ 50],\n",
       "       [ 51],\n",
       "       [ 52],\n",
       "       [ 53],\n",
       "       [ 54],\n",
       "       [ 55],\n",
       "       [ 56],\n",
       "       [ 57],\n",
       "       [ 58],\n",
       "       [ 59],\n",
       "       [ 60],\n",
       "       [ 61],\n",
       "       [ 62],\n",
       "       [ 63],\n",
       "       [ 64],\n",
       "       [ 65],\n",
       "       [ 66],\n",
       "       [ 67],\n",
       "       [ 68],\n",
       "       [ 69],\n",
       "       [ 70],\n",
       "       [ 71],\n",
       "       [ 72],\n",
       "       [ 73],\n",
       "       [ 74],\n",
       "       [ 75],\n",
       "       [ 76],\n",
       "       [ 77],\n",
       "       [ 78],\n",
       "       [ 79],\n",
       "       [ 80],\n",
       "       [ 81],\n",
       "       [ 82],\n",
       "       [ 83],\n",
       "       [ 84],\n",
       "       [ 85],\n",
       "       [ 86],\n",
       "       [ 87],\n",
       "       [ 88],\n",
       "       [ 89],\n",
       "       [ 90],\n",
       "       [ 91],\n",
       "       [ 92],\n",
       "       [ 93],\n",
       "       [ 94],\n",
       "       [ 95],\n",
       "       [ 96],\n",
       "       [ 97],\n",
       "       [ 98],\n",
       "       [ 99],\n",
       "       [100],\n",
       "       [101],\n",
       "       [102],\n",
       "       [103],\n",
       "       [104],\n",
       "       [105],\n",
       "       [106],\n",
       "       [107],\n",
       "       [108],\n",
       "       [109],\n",
       "       [110],\n",
       "       [111],\n",
       "       [112],\n",
       "       [113],\n",
       "       [114],\n",
       "       [115],\n",
       "       [116]])"
      ]
     },
     "execution_count": 92,
     "metadata": {},
     "output_type": "execute_result"
    }
   ],
   "source": [
    "x =  np.arange(len(Day))\n",
    "x = x.reshape(-1,1)\n",
    "x"
   ]
  },
  {
   "cell_type": "code",
   "execution_count": 93,
   "metadata": {},
   "outputs": [
    {
     "data": {
      "text/plain": [
       "117"
      ]
     },
     "execution_count": 93,
     "metadata": {},
     "output_type": "execute_result"
    }
   ],
   "source": [
    "len(Day)"
   ]
  },
  {
   "cell_type": "code",
   "execution_count": 94,
   "metadata": {},
   "outputs": [
    {
     "data": {
      "text/plain": [
       "array([     0,  18820,  16086,  12481,  15903,  17015,  15677,  15155,\n",
       "        15050,  13962,   9987,  13787,  15279,  14495,  14323,  14896,\n",
       "        13232,   9098,  12733,  11556,  18912,  13054,  13073,  11527,\n",
       "         8579,  11001,  12925,  12401,  11711,  12069,  11786,   8715,\n",
       "        10731,  12539,   9353,  12137,  12198,  11706,   9086,  11592,\n",
       "        12862,  13238,  13914,  13919,  14278,  10494,  13682,  16930,\n",
       "        16599,  16562,  16805,  15614,  12270,  14998,  17425,  16824,\n",
       "        18324,  18724,  18650,  15353,  17873,  22851,  23298,  24845,\n",
       "        25154,  26513,  24437,  28869,  35838,  39687,  40906,  43815,\n",
       "        47009,  40636,  47239,  53419,  59085,  62276,  62632,  68206,\n",
       "        56152,  53237,  72115,  81398,  89023,  92994, 103794,  96563,\n",
       "       115312, 126276, 131878, 144997, 152565, 169915, 160854, 185306,\n",
       "       199584, 216838, 234002, 260895, 275083, 257017, 294378, 315752,\n",
       "       332531, 345296, 348996, 354658, 319471, 362913, 379404, 386773,\n",
       "       402014, 392576, 370090, 355769, 382847], dtype=int64)"
      ]
     },
     "execution_count": 94,
     "metadata": {},
     "output_type": "execute_result"
    }
   ],
   "source": [
    "y = Day.values\n",
    "y"
   ]
  },
  {
   "cell_type": "code",
   "execution_count": 95,
   "metadata": {},
   "outputs": [
    {
     "data": {
      "image/png": "[encoded data removed]",
      "text/plain": [
       "<Figure size 432x288 with 1 Axes>"
      ]
     },
     "metadata": {
      "needs_background": "light"
     },
     "output_type": "display_data"
    }
   ],
   "source": [
    "plt.scatter(x,y)\n",
    "plt.show()"
   ]
  },
  {
   "cell_type": "code",
   "execution_count": 96,
   "metadata": {},
   "outputs": [
    {
     "data": {
      "text/plain": [
       "LinearRegression()"
      ]
     },
     "execution_count": 96,
     "metadata": {},
     "output_type": "execute_result"
    }
   ],
   "source": [
    "from sklearn.linear_model import LinearRegression\n",
    "regressor = LinearRegression()\n",
    "regressor.fit(x,y)"
   ]
  },
  {
   "cell_type": "code",
   "execution_count": 97,
   "metadata": {},
   "outputs": [
    {
     "data": {
      "text/plain": [
       "382847"
      ]
     },
     "execution_count": 97,
     "metadata": {},
     "output_type": "execute_result"
    }
   ],
   "source": [
    "y[116]"
   ]
  },
  {
   "cell_type": "code",
   "execution_count": 98,
   "metadata": {},
   "outputs": [
    {
     "data": {
      "text/plain": [
       "array([254577.36280578])"
      ]
     },
     "execution_count": 98,
     "metadata": {},
     "output_type": "execute_result"
    }
   ],
   "source": [
    "regressor.predict([[117]])"
   ]
  },
  {
   "cell_type": "code",
   "execution_count": 99,
   "metadata": {},
   "outputs": [
    {
     "data": {
      "text/plain": [
       "array([957283.63647989])"
      ]
     },
     "execution_count": 99,
     "metadata": {},
     "output_type": "execute_result"
    }
   ],
   "source": [
    "regressor.predict([[365]])"
   ]
  },
  {
   "cell_type": "code",
   "execution_count": 42,
   "metadata": {},
   "outputs": [
    {
     "data": {
      "text/plain": [
       "array([367917.08436612])"
      ]
     },
     "execution_count": 42,
     "metadata": {},
     "output_type": "execute_result"
    }
   ],
   "source": [
    "regressor.predict([[157]])"
   ]
  },
  {
   "cell_type": "code",
   "execution_count": 43,
   "metadata": {},
   "outputs": [
    {
     "data": {
      "text/plain": [
       "array([-76941.32275822, -74107.82971921, -71274.3366802 , -68440.8436412 ,\n",
       "       -65607.35060219, -62773.85756318, -59940.36452417, -57106.87148516,\n",
       "       -54273.37844615, -51439.88540714, -48606.39236814, -45772.89932913,\n",
       "       -42939.40629012, -40105.91325111, -37272.4202121 , -34438.92717309,\n",
       "       -31605.43413408, -28771.94109508, -25938.44805607, -23104.95501706,\n",
       "       -20271.46197805, -17437.96893904, -14604.47590003, -11770.98286102,\n",
       "        -8937.48982202,  -6103.99678301,  -3270.503744  ,   -437.01070499,\n",
       "         2396.48233402,   5229.97537303,   8063.46841203,  10896.96145104,\n",
       "        13730.45449005,  16563.94752906,  19397.44056807,  22230.93360708,\n",
       "        25064.42664609,  27897.91968509,  30731.4127241 ,  33564.90576311,\n",
       "        36398.39880212,  39231.89184113,  42065.38488014,  44898.87791915,\n",
       "        47732.37095815,  50565.86399716,  53399.35703617,  56232.85007518,\n",
       "        59066.34311419,  61899.8361532 ,  64733.32919221,  67566.82223121,\n",
       "        70400.31527022,  73233.80830923,  76067.30134824,  78900.79438725,\n",
       "        81734.28742626,  84567.78046526,  87401.27350427,  90234.76654328,\n",
       "        93068.25958229,  95901.7526213 ,  98735.24566031, 101568.73869932,\n",
       "       104402.23173832, 107235.72477733, 110069.21781634, 112902.71085535,\n",
       "       115736.20389436, 118569.69693337, 121403.18997238, 124236.68301138,\n",
       "       127070.17605039, 129903.6690894 , 132737.16212841, 135570.65516742,\n",
       "       138404.14820643, 141237.64124544, 144071.13428444, 146904.62732345,\n",
       "       149738.12036246, 152571.61340147, 155405.10644048, 158238.59947949,\n",
       "       161072.0925185 , 163905.5855575 , 166739.07859651, 169572.57163552,\n",
       "       172406.06467453, 175239.55771354, 178073.05075255, 180906.54379155,\n",
       "       183740.03683056, 186573.52986957, 189407.02290858, 192240.51594759,\n",
       "       195074.0089866 , 197907.50202561, 200740.99506461, 203574.48810362,\n",
       "       206407.98114263, 209241.47418164, 212074.96722065, 214908.46025966,\n",
       "       217741.95329867, 220575.44633767, 223408.93937668, 226242.43241569,\n",
       "       229075.9254547 , 231909.41849371, 234742.91153272, 237576.40457173,\n",
       "       240409.89761073, 243243.39064974, 246076.88368875, 248910.37672776,\n",
       "       251743.86976677])"
      ]
     },
     "execution_count": 43,
     "metadata": {},
     "output_type": "execute_result"
    }
   ],
   "source": [
    "yp = regressor.predict(x)\n",
    "yp"
   ]
  },
  {
   "cell_type": "code",
   "execution_count": 44,
   "metadata": {},
   "outputs": [
    {
     "data": {
      "image/png": "[encoded data removed]",
      "text/plain": [
       "<Figure size 432x288 with 1 Axes>"
      ]
     },
     "metadata": {
      "needs_background": "light"
     },
     "output_type": "display_data"
    }
   ],
   "source": [
    "plt.scatter(x,y)\n",
    "plt.scatter(x,yp)\n",
    "plt.show()"
   ]
  },
  {
   "cell_type": "code",
   "execution_count": 45,
   "metadata": {},
   "outputs": [
    {
     "data": {
      "text/plain": [
       "64.67430833546106"
      ]
     },
     "execution_count": 45,
     "metadata": {},
     "output_type": "execute_result"
    }
   ],
   "source": [
    "regressor.score(x,y)*100"
   ]
  },
  {
   "cell_type": "code",
   "execution_count": 46,
   "metadata": {},
   "outputs": [
    {
     "data": {
      "text/plain": [
       "-76941.3227582211"
      ]
     },
     "execution_count": 46,
     "metadata": {},
     "output_type": "execute_result"
    }
   ],
   "source": [
    "regressor.intercept_"
   ]
  },
  {
   "cell_type": "code",
   "execution_count": 47,
   "metadata": {},
   "outputs": [
    {
     "data": {
      "text/plain": [
       "array([2833.49303901])"
      ]
     },
     "execution_count": 47,
     "metadata": {},
     "output_type": "execute_result"
    }
   ],
   "source": [
    "regressor.coef_"
   ]
  },
  {
   "cell_type": "code",
   "execution_count": 48,
   "metadata": {},
   "outputs": [
    {
     "data": {
      "text/plain": [
       "array([254577.36280578])"
      ]
     },
     "execution_count": 48,
     "metadata": {},
     "output_type": "execute_result"
    }
   ],
   "source": [
    "regressor.predict([[117]])"
   ]
  },
  {
   "cell_type": "markdown",
   "metadata": {},
   "source": [
    "## Polynomial Features"
   ]
  },
  {
   "cell_type": "code",
   "execution_count": 49,
   "metadata": {},
   "outputs": [
    {
     "data": {
      "text/plain": [
       "Month  Day\n",
       "1      6           0\n",
       "       9       18820\n",
       "       10      16086\n",
       "       11      12481\n",
       "       12      15903\n",
       "               ...  \n",
       "4      30     402014\n",
       "5      1      392576\n",
       "       2      370090\n",
       "       3      355769\n",
       "       4      382847\n",
       "Name: Num Cases, Length: 117, dtype: int64"
      ]
     },
     "execution_count": 49,
     "metadata": {},
     "output_type": "execute_result"
    }
   ],
   "source": [
    "Day = data[data['Current Status'] == 'Hospitalized'].groupby(['Month','Day'])['Num Cases'].sum()\n",
    "Day"
   ]
  },
  {
   "cell_type": "code",
   "execution_count": 50,
   "metadata": {},
   "outputs": [
    {
     "data": {
      "text/plain": [
       "array([  0,   1,   2,   3,   4,   5,   6,   7,   8,   9,  10,  11,  12,\n",
       "        13,  14,  15,  16,  17,  18,  19,  20,  21,  22,  23,  24,  25,\n",
       "        26,  27,  28,  29,  30,  31,  32,  33,  34,  35,  36,  37,  38,\n",
       "        39,  40,  41,  42,  43,  44,  45,  46,  47,  48,  49,  50,  51,\n",
       "        52,  53,  54,  55,  56,  57,  58,  59,  60,  61,  62,  63,  64,\n",
       "        65,  66,  67,  68,  69,  70,  71,  72,  73,  74,  75,  76,  77,\n",
       "        78,  79,  80,  81,  82,  83,  84,  85,  86,  87,  88,  89,  90,\n",
       "        91,  92,  93,  94,  95,  96,  97,  98,  99, 100, 101, 102, 103,\n",
       "       104, 105, 106, 107, 108, 109, 110, 111, 112, 113, 114, 115, 116])"
      ]
     },
     "execution_count": 50,
     "metadata": {},
     "output_type": "execute_result"
    }
   ],
   "source": [
    "x = np.arange(len(Day))\n",
    "x"
   ]
  },
  {
   "cell_type": "code",
   "execution_count": 51,
   "metadata": {},
   "outputs": [
    {
     "data": {
      "text/plain": [
       "array([     0,  18820,  16086,  12481,  15903,  17015,  15677,  15155,\n",
       "        15050,  13962,   9987,  13787,  15279,  14495,  14323,  14896,\n",
       "        13232,   9098,  12733,  11556,  18912,  13054,  13073,  11527,\n",
       "         8579,  11001,  12925,  12401,  11711,  12069,  11786,   8715,\n",
       "        10731,  12539,   9353,  12137,  12198,  11706,   9086,  11592,\n",
       "        12862,  13238,  13914,  13919,  14278,  10494,  13682,  16930,\n",
       "        16599,  16562,  16805,  15614,  12270,  14998,  17425,  16824,\n",
       "        18324,  18724,  18650,  15353,  17873,  22851,  23298,  24845,\n",
       "        25154,  26513,  24437,  28869,  35838,  39687,  40906,  43815,\n",
       "        47009,  40636,  47239,  53419,  59085,  62276,  62632,  68206,\n",
       "        56152,  53237,  72115,  81398,  89023,  92994, 103794,  96563,\n",
       "       115312, 126276, 131878, 144997, 152565, 169915, 160854, 185306,\n",
       "       199584, 216838, 234002, 260895, 275083, 257017, 294378, 315752,\n",
       "       332531, 345296, 348996, 354658, 319471, 362913, 379404, 386773,\n",
       "       402014, 392576, 370090, 355769, 382847], dtype=int64)"
      ]
     },
     "execution_count": 51,
     "metadata": {},
     "output_type": "execute_result"
    }
   ],
   "source": [
    "y = Day.values\n",
    "y"
   ]
  },
  {
   "cell_type": "code",
   "execution_count": 52,
   "metadata": {},
   "outputs": [
    {
     "data": {
      "text/plain": [
       "array([[  0],\n",
       "       [  1],\n",
       "       [  2],\n",
       "       [  3],\n",
       "       [  4],\n",
       "       [  5],\n",
       "       [  6],\n",
       "       [  7],\n",
       "       [  8],\n",
       "       [  9],\n",
       "       [ 10],\n",
       "       [ 11],\n",
       "       [ 12],\n",
       "       [ 13],\n",
       "       [ 14],\n",
       "       [ 15],\n",
       "       [ 16],\n",
       "       [ 17],\n",
       "       [ 18],\n",
       "       [ 19],\n",
       "       [ 20],\n",
       "       [ 21],\n",
       "       [ 22],\n",
       "       [ 23],\n",
       "       [ 24],\n",
       "       [ 25],\n",
       "       [ 26],\n",
       "       [ 27],\n",
       "       [ 28],\n",
       "       [ 29],\n",
       "       [ 30],\n",
       "       [ 31],\n",
       "       [ 32],\n",
       "       [ 33],\n",
       "       [ 34],\n",
       "       [ 35],\n",
       "       [ 36],\n",
       "       [ 37],\n",
       "       [ 38],\n",
       "       [ 39],\n",
       "       [ 40],\n",
       "       [ 41],\n",
       "       [ 42],\n",
       "       [ 43],\n",
       "       [ 44],\n",
       "       [ 45],\n",
       "       [ 46],\n",
       "       [ 47],\n",
       "       [ 48],\n",
       "       [ 49],\n",
       "       [ 50],\n",
       "       [ 51],\n",
       "       [ 52],\n",
       "       [ 53],\n",
       "       [ 54],\n",
       "       [ 55],\n",
       "       [ 56],\n",
       "       [ 57],\n",
       "       [ 58],\n",
       "       [ 59],\n",
       "       [ 60],\n",
       "       [ 61],\n",
       "       [ 62],\n",
       "       [ 63],\n",
       "       [ 64],\n",
       "       [ 65],\n",
       "       [ 66],\n",
       "       [ 67],\n",
       "       [ 68],\n",
       "       [ 69],\n",
       "       [ 70],\n",
       "       [ 71],\n",
       "       [ 72],\n",
       "       [ 73],\n",
       "       [ 74],\n",
       "       [ 75],\n",
       "       [ 76],\n",
       "       [ 77],\n",
       "       [ 78],\n",
       "       [ 79],\n",
       "       [ 80],\n",
       "       [ 81],\n",
       "       [ 82],\n",
       "       [ 83],\n",
       "       [ 84],\n",
       "       [ 85],\n",
       "       [ 86],\n",
       "       [ 87],\n",
       "       [ 88],\n",
       "       [ 89],\n",
       "       [ 90],\n",
       "       [ 91],\n",
       "       [ 92],\n",
       "       [ 93],\n",
       "       [ 94],\n",
       "       [ 95],\n",
       "       [ 96],\n",
       "       [ 97],\n",
       "       [ 98],\n",
       "       [ 99],\n",
       "       [100],\n",
       "       [101],\n",
       "       [102],\n",
       "       [103],\n",
       "       [104],\n",
       "       [105],\n",
       "       [106],\n",
       "       [107],\n",
       "       [108],\n",
       "       [109],\n",
       "       [110],\n",
       "       [111],\n",
       "       [112],\n",
       "       [113],\n",
       "       [114],\n",
       "       [115],\n",
       "       [116]])"
      ]
     },
     "execution_count": 52,
     "metadata": {},
     "output_type": "execute_result"
    }
   ],
   "source": [
    "x.reshape(-1,1)"
   ]
  },
  {
   "cell_type": "code",
   "execution_count": 53,
   "metadata": {},
   "outputs": [
    {
     "data": {
      "text/plain": [
       "array([[1.0000e+00, 0.0000e+00, 0.0000e+00],\n",
       "       [1.0000e+00, 1.0000e+00, 1.0000e+00],\n",
       "       [1.0000e+00, 2.0000e+00, 4.0000e+00],\n",
       "       [1.0000e+00, 3.0000e+00, 9.0000e+00],\n",
       "       [1.0000e+00, 4.0000e+00, 1.6000e+01],\n",
       "       [1.0000e+00, 5.0000e+00, 2.5000e+01],\n",
       "       [1.0000e+00, 6.0000e+00, 3.6000e+01],\n",
       "       [1.0000e+00, 7.0000e+00, 4.9000e+01],\n",
       "       [1.0000e+00, 8.0000e+00, 6.4000e+01],\n",
       "       [1.0000e+00, 9.0000e+00, 8.1000e+01],\n",
       "       [1.0000e+00, 1.0000e+01, 1.0000e+02],\n",
       "       [1.0000e+00, 1.1000e+01, 1.2100e+02],\n",
       "       [1.0000e+00, 1.2000e+01, 1.4400e+02],\n",
       "       [1.0000e+00, 1.3000e+01, 1.6900e+02],\n",
       "       [1.0000e+00, 1.4000e+01, 1.9600e+02],\n",
       "       [1.0000e+00, 1.5000e+01, 2.2500e+02],\n",
       "       [1.0000e+00, 1.6000e+01, 2.5600e+02],\n",
       "       [1.0000e+00, 1.7000e+01, 2.8900e+02],\n",
       "       [1.0000e+00, 1.8000e+01, 3.2400e+02],\n",
       "       [1.0000e+00, 1.9000e+01, 3.6100e+02],\n",
       "       [1.0000e+00, 2.0000e+01, 4.0000e+02],\n",
       "       [1.0000e+00, 2.1000e+01, 4.4100e+02],\n",
       "       [1.0000e+00, 2.2000e+01, 4.8400e+02],\n",
       "       [1.0000e+00, 2.3000e+01, 5.2900e+02],\n",
       "       [1.0000e+00, 2.4000e+01, 5.7600e+02],\n",
       "       [1.0000e+00, 2.5000e+01, 6.2500e+02],\n",
       "       [1.0000e+00, 2.6000e+01, 6.7600e+02],\n",
       "       [1.0000e+00, 2.7000e+01, 7.2900e+02],\n",
       "       [1.0000e+00, 2.8000e+01, 7.8400e+02],\n",
       "       [1.0000e+00, 2.9000e+01, 8.4100e+02],\n",
       "       [1.0000e+00, 3.0000e+01, 9.0000e+02],\n",
       "       [1.0000e+00, 3.1000e+01, 9.6100e+02],\n",
       "       [1.0000e+00, 3.2000e+01, 1.0240e+03],\n",
       "       [1.0000e+00, 3.3000e+01, 1.0890e+03],\n",
       "       [1.0000e+00, 3.4000e+01, 1.1560e+03],\n",
       "       [1.0000e+00, 3.5000e+01, 1.2250e+03],\n",
       "       [1.0000e+00, 3.6000e+01, 1.2960e+03],\n",
       "       [1.0000e+00, 3.7000e+01, 1.3690e+03],\n",
       "       [1.0000e+00, 3.8000e+01, 1.4440e+03],\n",
       "       [1.0000e+00, 3.9000e+01, 1.5210e+03],\n",
       "       [1.0000e+00, 4.0000e+01, 1.6000e+03],\n",
       "       [1.0000e+00, 4.1000e+01, 1.6810e+03],\n",
       "       [1.0000e+00, 4.2000e+01, 1.7640e+03],\n",
       "       [1.0000e+00, 4.3000e+01, 1.8490e+03],\n",
       "       [1.0000e+00, 4.4000e+01, 1.9360e+03],\n",
       "       [1.0000e+00, 4.5000e+01, 2.0250e+03],\n",
       "       [1.0000e+00, 4.6000e+01, 2.1160e+03],\n",
       "       [1.0000e+00, 4.7000e+01, 2.2090e+03],\n",
       "       [1.0000e+00, 4.8000e+01, 2.3040e+03],\n",
       "       [1.0000e+00, 4.9000e+01, 2.4010e+03],\n",
       "       [1.0000e+00, 5.0000e+01, 2.5000e+03],\n",
       "       [1.0000e+00, 5.1000e+01, 2.6010e+03],\n",
       "       [1.0000e+00, 5.2000e+01, 2.7040e+03],\n",
       "       [1.0000e+00, 5.3000e+01, 2.8090e+03],\n",
       "       [1.0000e+00, 5.4000e+01, 2.9160e+03],\n",
       "       [1.0000e+00, 5.5000e+01, 3.0250e+03],\n",
       "       [1.0000e+00, 5.6000e+01, 3.1360e+03],\n",
       "       [1.0000e+00, 5.7000e+01, 3.2490e+03],\n",
       "       [1.0000e+00, 5.8000e+01, 3.3640e+03],\n",
       "       [1.0000e+00, 5.9000e+01, 3.4810e+03],\n",
       "       [1.0000e+00, 6.0000e+01, 3.6000e+03],\n",
       "       [1.0000e+00, 6.1000e+01, 3.7210e+03],\n",
       "       [1.0000e+00, 6.2000e+01, 3.8440e+03],\n",
       "       [1.0000e+00, 6.3000e+01, 3.9690e+03],\n",
       "       [1.0000e+00, 6.4000e+01, 4.0960e+03],\n",
       "       [1.0000e+00, 6.5000e+01, 4.2250e+03],\n",
       "       [1.0000e+00, 6.6000e+01, 4.3560e+03],\n",
       "       [1.0000e+00, 6.7000e+01, 4.4890e+03],\n",
       "       [1.0000e+00, 6.8000e+01, 4.6240e+03],\n",
       "       [1.0000e+00, 6.9000e+01, 4.7610e+03],\n",
       "       [1.0000e+00, 7.0000e+01, 4.9000e+03],\n",
       "       [1.0000e+00, 7.1000e+01, 5.0410e+03],\n",
       "       [1.0000e+00, 7.2000e+01, 5.1840e+03],\n",
       "       [1.0000e+00, 7.3000e+01, 5.3290e+03],\n",
       "       [1.0000e+00, 7.4000e+01, 5.4760e+03],\n",
       "       [1.0000e+00, 7.5000e+01, 5.6250e+03],\n",
       "       [1.0000e+00, 7.6000e+01, 5.7760e+03],\n",
       "       [1.0000e+00, 7.7000e+01, 5.9290e+03],\n",
       "       [1.0000e+00, 7.8000e+01, 6.0840e+03],\n",
       "       [1.0000e+00, 7.9000e+01, 6.2410e+03],\n",
       "       [1.0000e+00, 8.0000e+01, 6.4000e+03],\n",
       "       [1.0000e+00, 8.1000e+01, 6.5610e+03],\n",
       "       [1.0000e+00, 8.2000e+01, 6.7240e+03],\n",
       "       [1.0000e+00, 8.3000e+01, 6.8890e+03],\n",
       "       [1.0000e+00, 8.4000e+01, 7.0560e+03],\n",
       "       [1.0000e+00, 8.5000e+01, 7.2250e+03],\n",
       "       [1.0000e+00, 8.6000e+01, 7.3960e+03],\n",
       "       [1.0000e+00, 8.7000e+01, 7.5690e+03],\n",
       "       [1.0000e+00, 8.8000e+01, 7.7440e+03],\n",
       "       [1.0000e+00, 8.9000e+01, 7.9210e+03],\n",
       "       [1.0000e+00, 9.0000e+01, 8.1000e+03],\n",
       "       [1.0000e+00, 9.1000e+01, 8.2810e+03],\n",
       "       [1.0000e+00, 9.2000e+01, 8.4640e+03],\n",
       "       [1.0000e+00, 9.3000e+01, 8.6490e+03],\n",
       "       [1.0000e+00, 9.4000e+01, 8.8360e+03],\n",
       "       [1.0000e+00, 9.5000e+01, 9.0250e+03],\n",
       "       [1.0000e+00, 9.6000e+01, 9.2160e+03],\n",
       "       [1.0000e+00, 9.7000e+01, 9.4090e+03],\n",
       "       [1.0000e+00, 9.8000e+01, 9.6040e+03],\n",
       "       [1.0000e+00, 9.9000e+01, 9.8010e+03],\n",
       "       [1.0000e+00, 1.0000e+02, 1.0000e+04],\n",
       "       [1.0000e+00, 1.0100e+02, 1.0201e+04],\n",
       "       [1.0000e+00, 1.0200e+02, 1.0404e+04],\n",
       "       [1.0000e+00, 1.0300e+02, 1.0609e+04],\n",
       "       [1.0000e+00, 1.0400e+02, 1.0816e+04],\n",
       "       [1.0000e+00, 1.0500e+02, 1.1025e+04],\n",
       "       [1.0000e+00, 1.0600e+02, 1.1236e+04],\n",
       "       [1.0000e+00, 1.0700e+02, 1.1449e+04],\n",
       "       [1.0000e+00, 1.0800e+02, 1.1664e+04],\n",
       "       [1.0000e+00, 1.0900e+02, 1.1881e+04],\n",
       "       [1.0000e+00, 1.1000e+02, 1.2100e+04],\n",
       "       [1.0000e+00, 1.1100e+02, 1.2321e+04],\n",
       "       [1.0000e+00, 1.1200e+02, 1.2544e+04],\n",
       "       [1.0000e+00, 1.1300e+02, 1.2769e+04],\n",
       "       [1.0000e+00, 1.1400e+02, 1.2996e+04],\n",
       "       [1.0000e+00, 1.1500e+02, 1.3225e+04],\n",
       "       [1.0000e+00, 1.1600e+02, 1.3456e+04]])"
      ]
     },
     "execution_count": 53,
     "metadata": {},
     "output_type": "execute_result"
    }
   ],
   "source": [
    "from sklearn.preprocessing import PolynomialFeatures\n",
    "poly = PolynomialFeatures(degree=2)\n",
    "X = poly.fit_transform(x.reshape(-1,1))\n",
    "X"
   ]
  },
  {
   "cell_type": "code",
   "execution_count": 54,
   "metadata": {},
   "outputs": [
    {
     "data": {
      "text/html": [
       "<div>\n",
       "<style scoped>\n",
       "    .dataframe tbody tr th:only-of-type {\n",
       "        vertical-align: middle;\n",
       "    }\n",
       "\n",
       "    .dataframe tbody tr th {\n",
       "        vertical-align: top;\n",
       "    }\n",
       "\n",
       "    .dataframe thead th {\n",
       "        text-align: right;\n",
       "    }\n",
       "</style>\n",
       "<table border=\"1\" class=\"dataframe\">\n",
       "  <thead>\n",
       "    <tr style=\"text-align: right;\">\n",
       "      <th></th>\n",
       "      <th>0</th>\n",
       "      <th>1</th>\n",
       "      <th>2</th>\n",
       "    </tr>\n",
       "  </thead>\n",
       "  <tbody>\n",
       "    <tr>\n",
       "      <th>0</th>\n",
       "      <td>1.0</td>\n",
       "      <td>0.0</td>\n",
       "      <td>0.0</td>\n",
       "    </tr>\n",
       "    <tr>\n",
       "      <th>1</th>\n",
       "      <td>1.0</td>\n",
       "      <td>1.0</td>\n",
       "      <td>1.0</td>\n",
       "    </tr>\n",
       "    <tr>\n",
       "      <th>2</th>\n",
       "      <td>1.0</td>\n",
       "      <td>2.0</td>\n",
       "      <td>4.0</td>\n",
       "    </tr>\n",
       "    <tr>\n",
       "      <th>3</th>\n",
       "      <td>1.0</td>\n",
       "      <td>3.0</td>\n",
       "      <td>9.0</td>\n",
       "    </tr>\n",
       "    <tr>\n",
       "      <th>4</th>\n",
       "      <td>1.0</td>\n",
       "      <td>4.0</td>\n",
       "      <td>16.0</td>\n",
       "    </tr>\n",
       "    <tr>\n",
       "      <th>...</th>\n",
       "      <td>...</td>\n",
       "      <td>...</td>\n",
       "      <td>...</td>\n",
       "    </tr>\n",
       "    <tr>\n",
       "      <th>112</th>\n",
       "      <td>1.0</td>\n",
       "      <td>112.0</td>\n",
       "      <td>12544.0</td>\n",
       "    </tr>\n",
       "    <tr>\n",
       "      <th>113</th>\n",
       "      <td>1.0</td>\n",
       "      <td>113.0</td>\n",
       "      <td>12769.0</td>\n",
       "    </tr>\n",
       "    <tr>\n",
       "      <th>114</th>\n",
       "      <td>1.0</td>\n",
       "      <td>114.0</td>\n",
       "      <td>12996.0</td>\n",
       "    </tr>\n",
       "    <tr>\n",
       "      <th>115</th>\n",
       "      <td>1.0</td>\n",
       "      <td>115.0</td>\n",
       "      <td>13225.0</td>\n",
       "    </tr>\n",
       "    <tr>\n",
       "      <th>116</th>\n",
       "      <td>1.0</td>\n",
       "      <td>116.0</td>\n",
       "      <td>13456.0</td>\n",
       "    </tr>\n",
       "  </tbody>\n",
       "</table>\n",
       "<p>117 rows × 3 columns</p>\n",
       "</div>"
      ],
      "text/plain": [
       "       0      1        2\n",
       "0    1.0    0.0      0.0\n",
       "1    1.0    1.0      1.0\n",
       "2    1.0    2.0      4.0\n",
       "3    1.0    3.0      9.0\n",
       "4    1.0    4.0     16.0\n",
       "..   ...    ...      ...\n",
       "112  1.0  112.0  12544.0\n",
       "113  1.0  113.0  12769.0\n",
       "114  1.0  114.0  12996.0\n",
       "115  1.0  115.0  13225.0\n",
       "116  1.0  116.0  13456.0\n",
       "\n",
       "[117 rows x 3 columns]"
      ]
     },
     "execution_count": 54,
     "metadata": {},
     "output_type": "execute_result"
    }
   ],
   "source": [
    "pd.DataFrame(X)"
   ]
  },
  {
   "cell_type": "code",
   "execution_count": 55,
   "metadata": {},
   "outputs": [
    {
     "data": {
      "text/plain": [
       "LinearRegression()"
      ]
     },
     "execution_count": 55,
     "metadata": {},
     "output_type": "execute_result"
    }
   ],
   "source": [
    "from sklearn.linear_model import LinearRegression\n",
    "reg = LinearRegression()\n",
    "reg.fit(X,y)"
   ]
  },
  {
   "cell_type": "code",
   "execution_count": 56,
   "metadata": {},
   "outputs": [
    {
     "data": {
      "text/plain": [
       "array([    0.        , -4531.52690609,    63.49155125])"
      ]
     },
     "execution_count": 56,
     "metadata": {},
     "output_type": "execute_result"
    }
   ],
   "source": [
    "reg.coef_"
   ]
  },
  {
   "cell_type": "code",
   "execution_count": 57,
   "metadata": {},
   "outputs": [
    {
     "data": {
      "text/plain": [
       "64221.55952289549"
      ]
     },
     "execution_count": 57,
     "metadata": {},
     "output_type": "execute_result"
    }
   ],
   "source": [
    "reg.intercept_"
   ]
  },
  {
   "cell_type": "code",
   "execution_count": 58,
   "metadata": {},
   "outputs": [
    {
     "data": {
      "text/plain": [
       "array([ 6.42215595e+04,  5.97535242e+04,  5.54124719e+04,  5.11984028e+04,\n",
       "        4.71113167e+04,  4.31512138e+04,  3.93180939e+04,  3.56119572e+04,\n",
       "        3.20328036e+04,  2.85806330e+04,  2.52554456e+04,  2.20572413e+04,\n",
       "        1.89860200e+04,  1.60417819e+04,  1.32245269e+04,  1.05342550e+04,\n",
       "        7.97096615e+03,  5.53466043e+03,  3.22533782e+03,  1.04299831e+03,\n",
       "       -1.01235810e+03, -2.94073140e+03, -4.74212161e+03, -6.41652871e+03,\n",
       "       -7.96395270e+03, -9.38439360e+03, -1.06778514e+04, -1.18443261e+04,\n",
       "       -1.28838177e+04, -1.37963262e+04, -1.45818515e+04, -1.52403938e+04,\n",
       "       -1.57719530e+04, -1.61765291e+04, -1.64541220e+04, -1.66047319e+04,\n",
       "       -1.66283587e+04, -1.65250023e+04, -1.62946629e+04, -1.59373404e+04,\n",
       "       -1.54530347e+04, -1.48417460e+04, -1.41034741e+04, -1.32382192e+04,\n",
       "       -1.22459811e+04, -1.11267600e+04, -9.88055571e+03, -8.50736835e+03,\n",
       "       -7.00719789e+03, -5.38004432e+03, -3.62590765e+03, -1.74478788e+03,\n",
       "        2.63314988e+02,  2.39840096e+03,  4.66047004e+03,  7.04952222e+03,\n",
       "        9.56555750e+03,  1.22085759e+04,  1.49785774e+04,  1.78755620e+04,\n",
       "        2.08995297e+04,  2.40504805e+04,  2.73284144e+04,  3.07333314e+04,\n",
       "        3.42652315e+04,  3.79241147e+04,  4.17099810e+04,  4.56228304e+04,\n",
       "        4.96626629e+04,  5.38294785e+04,  5.81232772e+04,  6.25440590e+04,\n",
       "        6.70918240e+04,  7.17665720e+04,  7.65683031e+04,  8.14970174e+04,\n",
       "        8.65527147e+04,  9.17353951e+04,  9.70450587e+04,  1.02481705e+05,\n",
       "        1.08045335e+05,  1.13735948e+05,  1.19553544e+05,  1.25498123e+05,\n",
       "        1.31569685e+05,  1.37768230e+05,  1.44093759e+05,  1.50546270e+05,\n",
       "        1.57125765e+05,  1.63832242e+05,  1.70665703e+05,  1.77626147e+05,\n",
       "        1.84713574e+05,  1.91927984e+05,  1.99269377e+05,  2.06737753e+05,\n",
       "        2.14333113e+05,  2.22055455e+05,  2.29904781e+05,  2.37881090e+05,\n",
       "        2.45984381e+05,  2.54214656e+05,  2.62571914e+05,  2.71056155e+05,\n",
       "        2.79667380e+05,  2.88405587e+05,  2.97270777e+05,  3.06262951e+05,\n",
       "        3.15382107e+05,  3.24628247e+05,  3.34001370e+05,  3.43501476e+05,\n",
       "        3.53128565e+05,  3.62882637e+05,  3.72763692e+05,  3.82771731e+05,\n",
       "        3.92906752e+05])"
      ]
     },
     "execution_count": 58,
     "metadata": {},
     "output_type": "execute_result"
    }
   ],
   "source": [
    "yp = reg.predict(X)\n",
    "yp"
   ]
  },
  {
   "cell_type": "code",
   "execution_count": 59,
   "metadata": {},
   "outputs": [
    {
     "data": {
      "image/png": "[encoded data removed]",
      "text/plain": [
       "<Figure size 432x288 with 1 Axes>"
      ]
     },
     "metadata": {
      "needs_background": "light"
     },
     "output_type": "display_data"
    }
   ],
   "source": [
    "plt.scatter(x,y)\n",
    "plt.plot(x,yp,color = 'k')\n",
    "plt.show()"
   ]
  },
  {
   "cell_type": "code",
   "execution_count": 60,
   "metadata": {},
   "outputs": [
    {
     "data": {
      "text/plain": [
       "94.30030103738216"
      ]
     },
     "execution_count": 60,
     "metadata": {},
     "output_type": "execute_result"
    }
   ],
   "source": [
    "reg.score(X,y)*100"
   ]
  },
  {
   "cell_type": "code",
   "execution_count": 61,
   "metadata": {},
   "outputs": [
    {
     "data": {
      "text/plain": [
       "array([  0,   1,   2,   3,   4,   5,   6,   7,   8,   9,  10,  11,  12,\n",
       "        13,  14,  15,  16,  17,  18,  19,  20,  21,  22,  23,  24,  25,\n",
       "        26,  27,  28,  29,  30,  31,  32,  33,  34,  35,  36,  37,  38,\n",
       "        39,  40,  41,  42,  43,  44,  45,  46,  47,  48,  49,  50,  51,\n",
       "        52,  53,  54,  55,  56,  57,  58,  59,  60,  61,  62,  63,  64,\n",
       "        65,  66,  67,  68,  69,  70,  71,  72,  73,  74,  75,  76,  77,\n",
       "        78,  79,  80,  81,  82,  83,  84,  85,  86,  87,  88,  89,  90,\n",
       "        91,  92,  93,  94,  95,  96,  97,  98,  99, 100, 101, 102, 103,\n",
       "       104, 105, 106, 107, 108, 109, 110, 111, 112, 113, 114, 115, 116])"
      ]
     },
     "execution_count": 61,
     "metadata": {},
     "output_type": "execute_result"
    }
   ],
   "source": [
    "x"
   ]
  },
  {
   "cell_type": "code",
   "execution_count": 62,
   "metadata": {},
   "outputs": [
    {
     "data": {
      "text/plain": [
       "array([403168.75658325])"
      ]
     },
     "execution_count": 62,
     "metadata": {},
     "output_type": "execute_result"
    }
   ],
   "source": [
    "reg.predict(poly.fit_transform([[117]]))"
   ]
  },
  {
   "cell_type": "code",
   "execution_count": 63,
   "metadata": {},
   "outputs": [
    {
     "data": {
      "text/plain": [
       "array([339582.15397603])"
      ]
     },
     "execution_count": 63,
     "metadata": {},
     "output_type": "execute_result"
    }
   ],
   "source": [
    "regressor.predict([[147]])"
   ]
  },
  {
   "cell_type": "code",
   "execution_count": 64,
   "metadata": {},
   "outputs": [
    {
     "data": {
      "text/plain": [
       "array([367917.08436612])"
      ]
     },
     "execution_count": 64,
     "metadata": {},
     "output_type": "execute_result"
    }
   ],
   "source": [
    "regressor.predict([[157]])"
   ]
  },
  {
   "cell_type": "markdown",
   "metadata": {},
   "source": [
    "## SVM"
   ]
  },
  {
   "cell_type": "code",
   "execution_count": 65,
   "metadata": {},
   "outputs": [
    {
     "data": {
      "text/plain": [
       "Month  Day\n",
       "1      6           0\n",
       "       9       18820\n",
       "       10      16086\n",
       "       11      12481\n",
       "       12      15903\n",
       "               ...  \n",
       "4      30     402014\n",
       "5      1      392576\n",
       "       2      370090\n",
       "       3      355769\n",
       "       4      382847\n",
       "Name: Num Cases, Length: 117, dtype: int64"
      ]
     },
     "execution_count": 65,
     "metadata": {},
     "output_type": "execute_result"
    }
   ],
   "source": [
    "Day = data[data['Current Status'] == 'Hospitalized'].groupby(['Month', 'Day'])['Num Cases'].sum()\n",
    "Day"
   ]
  },
  {
   "cell_type": "code",
   "execution_count": 66,
   "metadata": {},
   "outputs": [
    {
     "data": {
      "text/plain": [
       "array([  0,   1,   2,   3,   4,   5,   6,   7,   8,   9,  10,  11,  12,\n",
       "        13,  14,  15,  16,  17,  18,  19,  20,  21,  22,  23,  24,  25,\n",
       "        26,  27,  28,  29,  30,  31,  32,  33,  34,  35,  36,  37,  38,\n",
       "        39,  40,  41,  42,  43,  44,  45,  46,  47,  48,  49,  50,  51,\n",
       "        52,  53,  54,  55,  56,  57,  58,  59,  60,  61,  62,  63,  64,\n",
       "        65,  66,  67,  68,  69,  70,  71,  72,  73,  74,  75,  76,  77,\n",
       "        78,  79,  80,  81,  82,  83,  84,  85,  86,  87,  88,  89,  90,\n",
       "        91,  92,  93,  94,  95,  96,  97,  98,  99, 100, 101, 102, 103,\n",
       "       104, 105, 106, 107, 108, 109, 110, 111, 112, 113, 114, 115, 116])"
      ]
     },
     "execution_count": 66,
     "metadata": {},
     "output_type": "execute_result"
    }
   ],
   "source": [
    "x = np.arange(len(Day))\n",
    "x"
   ]
  },
  {
   "cell_type": "code",
   "execution_count": 67,
   "metadata": {},
   "outputs": [
    {
     "data": {
      "text/plain": [
       "array([     0,  18820,  16086,  12481,  15903,  17015,  15677,  15155,\n",
       "        15050,  13962,   9987,  13787,  15279,  14495,  14323,  14896,\n",
       "        13232,   9098,  12733,  11556,  18912,  13054,  13073,  11527,\n",
       "         8579,  11001,  12925,  12401,  11711,  12069,  11786,   8715,\n",
       "        10731,  12539,   9353,  12137,  12198,  11706,   9086,  11592,\n",
       "        12862,  13238,  13914,  13919,  14278,  10494,  13682,  16930,\n",
       "        16599,  16562,  16805,  15614,  12270,  14998,  17425,  16824,\n",
       "        18324,  18724,  18650,  15353,  17873,  22851,  23298,  24845,\n",
       "        25154,  26513,  24437,  28869,  35838,  39687,  40906,  43815,\n",
       "        47009,  40636,  47239,  53419,  59085,  62276,  62632,  68206,\n",
       "        56152,  53237,  72115,  81398,  89023,  92994, 103794,  96563,\n",
       "       115312, 126276, 131878, 144997, 152565, 169915, 160854, 185306,\n",
       "       199584, 216838, 234002, 260895, 275083, 257017, 294378, 315752,\n",
       "       332531, 345296, 348996, 354658, 319471, 362913, 379404, 386773,\n",
       "       402014, 392576, 370090, 355769, 382847], dtype=int64)"
      ]
     },
     "execution_count": 67,
     "metadata": {},
     "output_type": "execute_result"
    }
   ],
   "source": [
    "y = Day.values\n",
    "y"
   ]
  },
  {
   "cell_type": "code",
   "execution_count": 68,
   "metadata": {},
   "outputs": [],
   "source": [
    "x = x.reshape(-1,1)\n",
    "y = y.reshape(-1,1)"
   ]
  },
  {
   "cell_type": "code",
   "execution_count": 69,
   "metadata": {},
   "outputs": [],
   "source": [
    "from sklearn.preprocessing import StandardScaler\n",
    "sc_x = StandardScaler()\n",
    "sc_y = StandardScaler()\n",
    "sx = sc_x.fit_transform(x)\n",
    "sy = sc_y.fit_transform(y)"
   ]
  },
  {
   "cell_type": "code",
   "execution_count": 70,
   "metadata": {},
   "outputs": [
    {
     "data": {
      "text/plain": [
       "SVR()"
      ]
     },
     "execution_count": 70,
     "metadata": {},
     "output_type": "execute_result"
    }
   ],
   "source": [
    "from sklearn.svm import SVR\n",
    "reg = SVR(kernel='rbf')\n",
    "reg.fit(sx,sy.ravel())"
   ]
  },
  {
   "cell_type": "code",
   "execution_count": 71,
   "metadata": {},
   "outputs": [
    {
     "data": {
      "text/plain": [
       "99.12669256169788"
      ]
     },
     "execution_count": 71,
     "metadata": {},
     "output_type": "execute_result"
    }
   ],
   "source": [
    "reg.score(sx,sy)*100"
   ]
  },
  {
   "cell_type": "code",
   "execution_count": 72,
   "metadata": {},
   "outputs": [
    {
     "data": {
      "text/plain": [
       "[<matplotlib.lines.Line2D at 0x134cab29e80>]"
      ]
     },
     "execution_count": 72,
     "metadata": {},
     "output_type": "execute_result"
    },
    {
     "data": {
      "image/png": "[encoded data removed]",
      "text/plain": [
       "<Figure size 432x288 with 1 Axes>"
      ]
     },
     "metadata": {
      "needs_background": "light"
     },
     "output_type": "display_data"
    }
   ],
   "source": [
    "plt.scatter(sx,sy)\n",
    "plt.plot(sx,reg.predict(sx),color='k',linewidth=4)"
   ]
  },
  {
   "cell_type": "code",
   "execution_count": 73,
   "metadata": {},
   "outputs": [
    {
     "data": {
      "text/plain": [
       "array([-0.63445474, -0.64276598, -0.65010862, -0.65650194, -0.66197042,\n",
       "       -0.66654336, -0.67025441, -0.67314105, -0.67524404, -0.67660687,\n",
       "       -0.67727517, -0.67729606, -0.67671759, -0.67558815, -0.67395589,\n",
       "       -0.67186817, -0.66937108, -0.666509  , -0.66332421, -0.65985654,\n",
       "       -0.65614315, -0.65221836, -0.64811349, -0.6438569 , -0.63947403,\n",
       "       -0.63498749, -0.63041731, -0.62578117, -0.62109472, -0.61637195,\n",
       "       -0.61162557, -0.60686746, -0.60210907, -0.59736184, -0.59263761,\n",
       "       -0.58794898, -0.58330964, -0.57873455, -0.57424017, -0.56984453,\n",
       "       -0.56556714, -0.56142888, -0.55745173, -0.55365837, -0.55007164,\n",
       "       -0.54671391, -0.5436063 , -0.54076778, -0.53821416, -0.53595704,\n",
       "       -0.53400262, -0.53235049, -0.53099236, -0.52991084, -0.52907818,\n",
       "       -0.52845507, -0.52798959, -0.52761612, -0.52725455, -0.52680959,\n",
       "       -0.52617022, -0.52520951, -0.52378452, -0.5217366 , -0.51889191,\n",
       "       -0.51506225, -0.5100462 , -0.5036306 , -0.49559224, -0.48569996,\n",
       "       -0.47371697, -0.45940341, -0.44251919, -0.42282702, -0.4000956 ,\n",
       "       -0.37410291, -0.34463961, -0.31151247, -0.27454775, -0.23359451,\n",
       "       -0.18852782, -0.13925176, -0.08570216, -0.02784911,  0.0343009 ,\n",
       "        0.10070324,  0.17127375,  0.24588788,  0.32438026,  0.40654476,\n",
       "        0.49213509,  0.58086588,  0.67241432,  0.76642225,  0.86249871,\n",
       "        0.96022303,  1.05914825,  1.15880494,  1.25870539,  1.35834798,\n",
       "        1.45722188,  1.55481181,  1.65060296,  1.74408591,  1.83476146,\n",
       "        1.92214551,  2.00577356,  2.0852052 ,  2.16002816,  2.22986209,\n",
       "        2.29436197,  2.35322111,  2.40617361,  2.45299649,  2.49351116,\n",
       "        2.52758451,  2.55512944])"
      ]
     },
     "execution_count": 73,
     "metadata": {},
     "output_type": "execute_result"
    }
   ],
   "source": [
    "reg.predict(sx)"
   ]
  },
  {
   "cell_type": "markdown",
   "metadata": {},
   "source": [
    "## Decision Tree"
   ]
  },
  {
   "cell_type": "code",
   "execution_count": 74,
   "metadata": {},
   "outputs": [
    {
     "data": {
      "text/plain": [
       "Month  Day\n",
       "1      6           0\n",
       "       9       18820\n",
       "       10      16086\n",
       "       11      12481\n",
       "       12      15903\n",
       "               ...  \n",
       "4      30     402014\n",
       "5      1      392576\n",
       "       2      370090\n",
       "       3      355769\n",
       "       4      382847\n",
       "Name: Num Cases, Length: 117, dtype: int64"
      ]
     },
     "execution_count": 74,
     "metadata": {},
     "output_type": "execute_result"
    }
   ],
   "source": [
    "Day = data[data['Current Status'] == 'Hospitalized'].groupby(['Month','Day'])['Num Cases'].sum()\n",
    "Day"
   ]
  },
  {
   "cell_type": "code",
   "execution_count": 75,
   "metadata": {},
   "outputs": [
    {
     "data": {
      "text/plain": [
       "array([[  0],\n",
       "       [  1],\n",
       "       [  2],\n",
       "       [  3],\n",
       "       [  4],\n",
       "       [  5],\n",
       "       [  6],\n",
       "       [  7],\n",
       "       [  8],\n",
       "       [  9],\n",
       "       [ 10],\n",
       "       [ 11],\n",
       "       [ 12],\n",
       "       [ 13],\n",
       "       [ 14],\n",
       "       [ 15],\n",
       "       [ 16],\n",
       "       [ 17],\n",
       "       [ 18],\n",
       "       [ 19],\n",
       "       [ 20],\n",
       "       [ 21],\n",
       "       [ 22],\n",
       "       [ 23],\n",
       "       [ 24],\n",
       "       [ 25],\n",
       "       [ 26],\n",
       "       [ 27],\n",
       "       [ 28],\n",
       "       [ 29],\n",
       "       [ 30],\n",
       "       [ 31],\n",
       "       [ 32],\n",
       "       [ 33],\n",
       "       [ 34],\n",
       "       [ 35],\n",
       "       [ 36],\n",
       "       [ 37],\n",
       "       [ 38],\n",
       "       [ 39],\n",
       "       [ 40],\n",
       "       [ 41],\n",
       "       [ 42],\n",
       "       [ 43],\n",
       "       [ 44],\n",
       "       [ 45],\n",
       "       [ 46],\n",
       "       [ 47],\n",
       "       [ 48],\n",
       "       [ 49],\n",
       "       [ 50],\n",
       "       [ 51],\n",
       "       [ 52],\n",
       "       [ 53],\n",
       "       [ 54],\n",
       "       [ 55],\n",
       "       [ 56],\n",
       "       [ 57],\n",
       "       [ 58],\n",
       "       [ 59],\n",
       "       [ 60],\n",
       "       [ 61],\n",
       "       [ 62],\n",
       "       [ 63],\n",
       "       [ 64],\n",
       "       [ 65],\n",
       "       [ 66],\n",
       "       [ 67],\n",
       "       [ 68],\n",
       "       [ 69],\n",
       "       [ 70],\n",
       "       [ 71],\n",
       "       [ 72],\n",
       "       [ 73],\n",
       "       [ 74],\n",
       "       [ 75],\n",
       "       [ 76],\n",
       "       [ 77],\n",
       "       [ 78],\n",
       "       [ 79],\n",
       "       [ 80],\n",
       "       [ 81],\n",
       "       [ 82],\n",
       "       [ 83],\n",
       "       [ 84],\n",
       "       [ 85],\n",
       "       [ 86],\n",
       "       [ 87],\n",
       "       [ 88],\n",
       "       [ 89],\n",
       "       [ 90],\n",
       "       [ 91],\n",
       "       [ 92],\n",
       "       [ 93],\n",
       "       [ 94],\n",
       "       [ 95],\n",
       "       [ 96],\n",
       "       [ 97],\n",
       "       [ 98],\n",
       "       [ 99],\n",
       "       [100],\n",
       "       [101],\n",
       "       [102],\n",
       "       [103],\n",
       "       [104],\n",
       "       [105],\n",
       "       [106],\n",
       "       [107],\n",
       "       [108],\n",
       "       [109],\n",
       "       [110],\n",
       "       [111],\n",
       "       [112],\n",
       "       [113],\n",
       "       [114],\n",
       "       [115],\n",
       "       [116]])"
      ]
     },
     "execution_count": 75,
     "metadata": {},
     "output_type": "execute_result"
    }
   ],
   "source": [
    "x = np.arange(len(Day))\n",
    "x = x.reshape(-1,1)\n",
    "x"
   ]
  },
  {
   "cell_type": "code",
   "execution_count": 76,
   "metadata": {},
   "outputs": [
    {
     "data": {
      "text/plain": [
       "array([     0,  18820,  16086,  12481,  15903,  17015,  15677,  15155,\n",
       "        15050,  13962,   9987,  13787,  15279,  14495,  14323,  14896,\n",
       "        13232,   9098,  12733,  11556,  18912,  13054,  13073,  11527,\n",
       "         8579,  11001,  12925,  12401,  11711,  12069,  11786,   8715,\n",
       "        10731,  12539,   9353,  12137,  12198,  11706,   9086,  11592,\n",
       "        12862,  13238,  13914,  13919,  14278,  10494,  13682,  16930,\n",
       "        16599,  16562,  16805,  15614,  12270,  14998,  17425,  16824,\n",
       "        18324,  18724,  18650,  15353,  17873,  22851,  23298,  24845,\n",
       "        25154,  26513,  24437,  28869,  35838,  39687,  40906,  43815,\n",
       "        47009,  40636,  47239,  53419,  59085,  62276,  62632,  68206,\n",
       "        56152,  53237,  72115,  81398,  89023,  92994, 103794,  96563,\n",
       "       115312, 126276, 131878, 144997, 152565, 169915, 160854, 185306,\n",
       "       199584, 216838, 234002, 260895, 275083, 257017, 294378, 315752,\n",
       "       332531, 345296, 348996, 354658, 319471, 362913, 379404, 386773,\n",
       "       402014, 392576, 370090, 355769, 382847], dtype=int64)"
      ]
     },
     "execution_count": 76,
     "metadata": {},
     "output_type": "execute_result"
    }
   ],
   "source": [
    "y = Day.values\n",
    "y"
   ]
  },
  {
   "cell_type": "code",
   "execution_count": 77,
   "metadata": {},
   "outputs": [
    {
     "data": {
      "text/plain": [
       "DecisionTreeRegressor()"
      ]
     },
     "execution_count": 77,
     "metadata": {},
     "output_type": "execute_result"
    }
   ],
   "source": [
    "from sklearn.tree import DecisionTreeRegressor\n",
    "reg = DecisionTreeRegressor()\n",
    "reg.fit(x,y)"
   ]
  },
  {
   "cell_type": "code",
   "execution_count": 78,
   "metadata": {},
   "outputs": [
    {
     "data": {
      "text/plain": [
       "array([     0.,  18820.,  16086.,  12481.,  15903.,  17015.,  15677.,\n",
       "        15155.,  15050.,  13962.,   9987.,  13787.,  15279.,  14495.,\n",
       "        14323.,  14896.,  13232.,   9098.,  12733.,  11556.,  18912.,\n",
       "        13054.,  13073.,  11527.,   8579.,  11001.,  12925.,  12401.,\n",
       "        11711.,  12069.,  11786.,   8715.,  10731.,  12539.,   9353.,\n",
       "        12137.,  12198.,  11706.,   9086.,  11592.,  12862.,  13238.,\n",
       "        13914.,  13919.,  14278.,  10494.,  13682.,  16930.,  16599.,\n",
       "        16562.,  16805.,  15614.,  12270.,  14998.,  17425.,  16824.,\n",
       "        18324.,  18724.,  18650.,  15353.,  17873.,  22851.,  23298.,\n",
       "        24845.,  25154.,  26513.,  24437.,  28869.,  35838.,  39687.,\n",
       "        40906.,  43815.,  47009.,  40636.,  47239.,  53419.,  59085.,\n",
       "        62276.,  62632.,  68206.,  56152.,  53237.,  72115.,  81398.,\n",
       "        89023.,  92994., 103794.,  96563., 115312., 126276., 131878.,\n",
       "       144997., 152565., 169915., 160854., 185306., 199584., 216838.,\n",
       "       234002., 260895., 275083., 257017., 294378., 315752., 332531.,\n",
       "       345296., 348996., 354658., 319471., 362913., 379404., 386773.,\n",
       "       402014., 392576., 370090., 355769., 382847.])"
      ]
     },
     "execution_count": 78,
     "metadata": {},
     "output_type": "execute_result"
    }
   ],
   "source": [
    "yp = reg.predict(x)\n",
    "yp"
   ]
  },
  {
   "cell_type": "code",
   "execution_count": 79,
   "metadata": {},
   "outputs": [
    {
     "data": {
      "image/png": "[encoded data removed]",
      "text/plain": [
       "<Figure size 432x288 with 1 Axes>"
      ]
     },
     "metadata": {
      "needs_background": "light"
     },
     "output_type": "display_data"
    }
   ],
   "source": [
    "plt.scatter(x,y)\n",
    "plt.plot(x,yp,color='k')\n",
    "plt.show()"
   ]
  },
  {
   "cell_type": "code",
   "execution_count": 80,
   "metadata": {},
   "outputs": [
    {
     "data": {
      "text/plain": [
       "100.0"
      ]
     },
     "execution_count": 80,
     "metadata": {},
     "output_type": "execute_result"
    }
   ],
   "source": [
    "reg.score(x,y)*100"
   ]
  },
  {
   "cell_type": "code",
   "execution_count": 81,
   "metadata": {},
   "outputs": [
    {
     "data": {
      "text/plain": [
       "array([382847.])"
      ]
     },
     "execution_count": 81,
     "metadata": {},
     "output_type": "execute_result"
    }
   ],
   "source": [
    "reg.predict([[118]])"
   ]
  },
  {
   "cell_type": "code",
   "execution_count": 82,
   "metadata": {},
   "outputs": [
    {
     "data": {
      "text/plain": [
       "array([382847.])"
      ]
     },
     "execution_count": 82,
     "metadata": {},
     "output_type": "execute_result"
    }
   ],
   "source": [
    "reg.predict([[148]])"
   ]
  },
  {
   "cell_type": "code",
   "execution_count": 83,
   "metadata": {},
   "outputs": [
    {
     "data": {
      "text/plain": [
       "array([382847.])"
      ]
     },
     "execution_count": 83,
     "metadata": {},
     "output_type": "execute_result"
    }
   ],
   "source": [
    "reg.predict([[168]])"
   ]
  },
  {
   "cell_type": "markdown",
   "metadata": {},
   "source": [
    "## Random Forest "
   ]
  },
  {
   "cell_type": "code",
   "execution_count": 84,
   "metadata": {},
   "outputs": [
    {
     "data": {
      "text/plain": [
       "Month  Day\n",
       "1      6           0\n",
       "       9       18820\n",
       "       10      16086\n",
       "       11      12481\n",
       "       12      15903\n",
       "               ...  \n",
       "4      30     402014\n",
       "5      1      392576\n",
       "       2      370090\n",
       "       3      355769\n",
       "       4      382847\n",
       "Name: Num Cases, Length: 117, dtype: int64"
      ]
     },
     "execution_count": 84,
     "metadata": {},
     "output_type": "execute_result"
    }
   ],
   "source": [
    "Day = data[data['Current Status'] == 'Hospitalized'].groupby(['Month','Day'])['Num Cases'].sum()\n",
    "Day"
   ]
  },
  {
   "cell_type": "code",
   "execution_count": 85,
   "metadata": {},
   "outputs": [],
   "source": [
    "x = np.arange(len(Day))\n",
    "x = x.reshape(-1,1)\n",
    "y = Day.values"
   ]
  },
  {
   "cell_type": "code",
   "execution_count": 86,
   "metadata": {},
   "outputs": [
    {
     "data": {
      "text/plain": [
       "RandomForestRegressor()"
      ]
     },
     "execution_count": 86,
     "metadata": {},
     "output_type": "execute_result"
    }
   ],
   "source": [
    "from sklearn.ensemble import RandomForestRegressor\n",
    "reg = RandomForestRegressor()\n",
    "reg.fit(x,y)"
   ]
  },
  {
   "cell_type": "code",
   "execution_count": 87,
   "metadata": {},
   "outputs": [
    {
     "data": {
      "text/plain": [
       "99.93036393758125"
      ]
     },
     "execution_count": 87,
     "metadata": {},
     "output_type": "execute_result"
    }
   ],
   "source": [
    "reg.score(x,y)*100"
   ]
  },
  {
   "cell_type": "code",
   "execution_count": 88,
   "metadata": {},
   "outputs": [
    {
     "data": {
      "image/png": "[encoded data removed]",
      "text/plain": [
       "<Figure size 432x288 with 1 Axes>"
      ]
     },
     "metadata": {
      "needs_background": "light"
     },
     "output_type": "display_data"
    }
   ],
   "source": [
    "plt.scatter(x,y)\n",
    "plt.plot(x,reg.predict(x),color='k')\n",
    "plt.show()"
   ]
  },
  {
   "cell_type": "code",
   "execution_count": 89,
   "metadata": {},
   "outputs": [
    {
     "data": {
      "text/plain": [
       "array([375220.24])"
      ]
     },
     "execution_count": 89,
     "metadata": {},
     "output_type": "execute_result"
    }
   ],
   "source": [
    "reg.predict([[117]])"
   ]
  },
  {
   "cell_type": "code",
   "execution_count": 90,
   "metadata": {},
   "outputs": [
    {
     "data": {
      "text/plain": [
       "array([375220.24])"
      ]
     },
     "execution_count": 90,
     "metadata": {},
     "output_type": "execute_result"
    }
   ],
   "source": [
    "reg.predict([[147]])"
   ]
  },
  {
   "cell_type": "code",
   "execution_count": 91,
   "metadata": {},
   "outputs": [
    {
     "data": {
      "text/plain": [
       "array([375220.24])"
      ]
     },
     "execution_count": 91,
     "metadata": {},
     "output_type": "execute_result"
    }
   ],
   "source": [
    "reg.predict([[167]])"
   ]
  },
  {
   "cell_type": "code",
   "execution_count": null,
   "metadata": {},
   "outputs": [],
   "source": []
  },
  {
   "cell_type": "code",
   "execution_count": null,
   "metadata": {},
   "outputs": [],
   "source": []
  }
 ],
 "metadata": {
  "kernelspec": {
   "display_name": "Python 3",
   "language": "python",
   "name": "python3"
  },
  "language_info": {
   "codemirror_mode": {
    "name": "ipython",
    "version": 3
   },
   "file_extension": ".py",
   "mimetype": "text/x-python",
   "name": "python",
   "nbconvert_exporter": "python",
   "pygments_lexer": "ipython3",
   "version": "3.8.3"
  }
 },
 "nbformat": 4,
 "nbformat_minor": 4
}
